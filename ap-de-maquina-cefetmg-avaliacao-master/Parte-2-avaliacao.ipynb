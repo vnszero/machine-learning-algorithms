{
 "cells": [
  {
   "cell_type": "markdown",
   "metadata": {},
   "source": [
    "## Antes de começar..."
   ]
  },
  {
   "cell_type": "markdown",
   "metadata": {},
   "source": [
    "Lembre-se, que em python, podemos passar inclusive classes por parametros:"
   ]
  },
  {
   "cell_type": "code",
   "execution_count": 1,
   "metadata": {},
   "outputs": [
    {
     "name": "stdout",
     "output_type": "stream",
     "text": [
      "Numero: 99\n",
      "Numero: 101\n"
     ]
    }
   ],
   "source": [
    "class Xuxu:\n",
    "    def __init__(self, num):\n",
    "        self.num = num-1\n",
    "class Xaxa:\n",
    "    def __init__(self, num):\n",
    "        self.num = num+1\n",
    "\n",
    "def kaka(ClasseXuxuOuXaxa):\n",
    "    obj = ClasseXuxuOuXaxa(100)\n",
    "    print(f\"Numero: {obj.num}\")\n",
    "\n",
    "kaka(Xuxu)\n",
    "kaka(Xaxa)"
   ]
  },
  {
   "cell_type": "markdown",
   "metadata": {},
   "source": [
    "## Avaliação e Otimização de Parametros"
   ]
  },
  {
   "cell_type": "markdown",
   "metadata": {},
   "source": [
    "Cada método possui alguns parametros a serem ajustados. Alguns parametros são essenciais para, por exemplo, diminuir o _overfitting_ e conseguirmos um modelo que faça predições com menos erros possíveis. Assim, dado os parametros $(p_1, p_2, p_3)$ nosso objetivo é encontrar uma solução ótima, ou seja, valores de $p_1$, $p_2$ e $p_3$ que maximiza o resultado (por meio de Macro F1 ou acurácia, por exemplo).\n",
    "\n",
    "Por exemplo, a implementação de árvore de decisão do Scikitlearn, temos o parametro `min_samples` que define o mínimo de exemplos necessários para que um nodo da árvore efetue a divisão. Como é inviável testarmos todos os paramtros podemos variá-lo, por exemplo, de 0.1 em 0.1 passos entre 0.1 e 0.9 para tentarmos encontrar a solução ótima. \n",
    "\n",
    "O algoritmo RandomForest possui mais parametros além do `min_samples_split` (que é o equivalente ao min_samples da árvore de decisão), por exemplo, a porcentagem de atributos (features) que será considerada para a divisão  de uma determinada árvore (`max_features`). Como esses dois parametros afetam muito o resultado, nosso *objetivo* é encontrar o valor `min_samples_split` e `max_features` que *maximizam* o resultado. Similarmente a uma arvore de decisão, como o treinamento de um método de aprendizado de máquina é custoso, avaliar muitos parametros pode ser inviável, por isso, poderiamos variar cada parametro da seguinte forma: \n",
    "\n",
    "- min_samples_split: {0.1, 0,2, ...,0.9}\n",
    "- max_features: {0.1, 0,2, ...,0.9}\n",
    "\n",
    "Com essa quantidade de parametro podemos fazer um [GridSearch]() nele, testamos todas as combinações ou seja, para cada `min_sample_split`, você testará todos os valores `max_features` (${0.1, 0,2, ...,0.9}$). Porém, mesmo assim, o GridSearch pode ficar inviável se quiséssemos colocar mais parametros. Por  exemplo, um outro parametro importante neste método é o número de árvores que o algoritmo irá utilizar (`n_estimators`) que poderiamos variar da seguinte forma:\n",
    "\n",
    "- n_estimators: {1, 20, 40, 60, 80, 100}\n",
    "\n",
    "Porém, mesmo com apenas 5 valores, a quantidade de combinações que precisariamos testar seria 5 vezes mais.  Além disso, não conseguimos explorar bem o espaço de busca. Por exemplo, vamos supor que a solução ótima seria com 30 árvores, max_features=0.15 e min_samples_split=0.35, ou seja, esta seria a solução que maximizaria o resultado. Usando a variação acima, não conseguiriamos encontrá-la. \n",
    "\n",
    "Uma das formas de conseguir explorar melhor o espaço quando temos muitas dimensões é, ao invés de fazer um GridSearch, fazermos um RandomSearch. Nele, é sorteado aleatoriamente valores para cada um dos parametros. Por exemplo:"
   ]
  },
  {
   "cell_type": "code",
   "execution_count": 2,
   "metadata": {},
   "outputs": [
    {
     "name": "stdout",
     "output_type": "stream",
     "text": [
      "Possíveis soluções a serem testadas:\n",
      "(0.207491395289921,0.7779469895497861,783)\n",
      "(0.15048545751016748,0.19433496293684885,780)\n",
      "(0.4595928518309905,0.6212743781782104,808)\n",
      "(0.26796384509718174,0.4902853252193181,915)\n",
      "(0.7686120831358958,0.4462136543240427,781)\n",
      "(0.7137261033183696,0.6566662934147548,273)\n",
      "(0.6772320258726261,0.2830097770163621,968)\n",
      "(0.1817817264880386,0.35394370574110734,23)\n",
      "(0.12035668879476864,0.5331299782347972,962)\n",
      "(0.8049870871377244,0.6491870833432638,993)\n"
     ]
    }
   ],
   "source": [
    "import random\n",
    "n_combinacoes = 10\n",
    "random.seed(1)\n",
    "print(\"Possíveis soluções a serem testadas:\")\n",
    "for i in range(n_combinacoes):\n",
    "    min_samples_split = random.uniform(0.1,0.9)\n",
    "    max_features = random.uniform(0.1,0.9)\n",
    "    n_estimators = random.randint(1,1000)\n",
    "    print(f\"({min_samples_split},{max_features},{n_estimators})\")"
   ]
  },
  {
   "cell_type": "markdown",
   "metadata": {},
   "source": [
    "Podemos ainda melhorar essa busca ao usar o algoritmo Tree-Structured Parzen Estimator (TPE). De forma similar ao RandomSearch, esse algoritmo também sorteia aleoriamente valores. Porém, os valores não são totalmente aleatórios. Inicialmente, gera-se $c$ combinações totalmente aleatórias e, logo após, será gerado outras opções também aleatórias porém com uma probabilidade maior de ser sorteado soluções:\n",
    "\n",
    "- próxima a locais com bons resultados \n",
    "- próxima a regiões que ainda não foram exploradas\n",
    "\n",
    "[Veja um video explicativo aqui](https://www.youtube.com/watch?v=cWyuUpZfZl0&list=PLwIaU1DGYV6tUx10fCTw5aPnqypbbK_GJ&index=32) - ele demonstra o uso em parametros de redes neurais profundas, porém, a ideia é a mesma. Ao ver o video, é interessante notar que em redes neurais profundas, chamamos tais parametros de hiperparametros. [Veja também um texto sobre ajustes de parametros (em inglês)](https://medium.com/criteo-labs/hyper-parameter-optimization-algorithms-2fe447525903).\n",
    "\n",
    "Nem sempre o TPE é melhor que o Grid Search. Depende muito do problema, da quantidade e sensibilidade dos parametros e do método de aprendizado de máquina. A única forma de descobrir qual é o melhor é avaliando ambos também ;)."
   ]
  },
  {
   "cell_type": "markdown",
   "metadata": {},
   "source": [
    "### Optuna e otimização de parametros"
   ]
  },
  {
   "cell_type": "markdown",
   "metadata": {},
   "source": [
    "O Optuna é uma biblioteca que facilita a otimização de parametros. Para simplificar, considere a função $f(x) = -2x^2 + x + 4$ em que desejamos maximizar $f(x)$ e, neste caso, nosso parametro é o $x$. Assim, em outras palavras, temos que achar qual valor de $x$ obtém o maior resultado possível dessa função. Veja a representação grafica dessa função com a solução ótima encontrada:\n"
   ]
  },
  {
   "cell_type": "code",
   "execution_count": 3,
   "metadata": {},
   "outputs": [
    {
     "data": {
      "image/png": "[encoded data removed]",
      "text/plain": [
       "<Figure size 640x480 with 1 Axes>"
      ]
     },
     "metadata": {},
     "output_type": "display_data"
    }
   ],
   "source": [
    "import matplotlib.pyplot as plt\n",
    "import numpy as np\n",
    "\n",
    "def desenha_funcao(limit_inf=-4,limit_sup=4):\n",
    "    # create 1000 equally spaced points between -10 and 10\n",
    "    x = np.linspace(limit_inf, limit_sup, 100)\n",
    "\n",
    "    # calculate the y value for each element of the x vector\n",
    "    y = -2* x**2 + x + 4\n",
    "\n",
    "    plt.plot(x, y)\n",
    "    plt.scatter(0.25,4.125,marker=\"o\")\n",
    "desenha_funcao()"
   ]
  },
  {
   "cell_type": "markdown",
   "metadata": {},
   "source": [
    "O optuna testará, com uma determinada estratégia, vários valores de $x$ com  o objetivo de encontrar esse ponto ótimo. \n",
    "\n",
    "Para isso, você deve criar uma **função objetivo** ou seja, uma função python que calcula o função $f(x)$ por meio de um $x$ escolhido com uma determinada estratégia (aleatório, por exemplo) para a tentativa especifica (definida pelo objeto [trial](https://optuna.readthedocs.io/en/latest/reference/trial.html))."
   ]
  },
  {
   "cell_type": "code",
   "execution_count": 4,
   "metadata": {},
   "outputs": [],
   "source": [
    "import optuna\n",
    "def funcao_objetivo(trial: optuna.Trial):\n",
    "    #trial: é a tentativa atual\n",
    "    #sugggest uniform: função que sugere-se uma escolha de x aleatorio \n",
    "    #de forma uniforme (ou seja, todos os valores tem a mesma chance de ser escolhidos)\n",
    "    #pq é uma sugestão: Dependendo da estrategia de busca, esse parametro pode nao ser uniformemente escolhido\n",
    "    x = trial.suggest_uniform('x', -10, 10)\n",
    "    return -2* x**2 + x + 4"
   ]
  },
  {
   "cell_type": "markdown",
   "metadata": {},
   "source": [
    "Assim, pode-se instanciar um estudo  de parametros (objeto da classe [Study](https://optuna.readthedocs.io/en/latest/reference/study.html)) que efetua uma busca aleatória do parametro $x$, passando a função objetivo como parametro: "
   ]
  },
  {
   "cell_type": "code",
   "execution_count": 5,
   "metadata": {},
   "outputs": [
    {
     "name": "stderr",
     "output_type": "stream",
     "text": [
      "[I 2023-09-05 17:36:40,598] A new study created in memory with name: no-name-467e9b6b-bffb-4b9d-bf80-f6ffb8da54ea\n",
      "C:\\Users\\Victor\\AppData\\Local\\Temp\\ipykernel_30012\\2174563000.py:7: FutureWarning: suggest_uniform has been deprecated in v3.0.0. This feature will be removed in v6.0.0. See https://github.com/optuna/optuna/releases/tag/v3.0.0. Use suggest_float instead.\n",
      "  x = trial.suggest_uniform('x', -10, 10)\n",
      "[I 2023-09-05 17:36:40,599] Trial 0 finished with value: -3.1678380688122374 and parameters: {'x': -1.6595599059485195}. Best is trial 0 with value: -3.1678380688122374.\n",
      "[I 2023-09-05 17:36:40,600] Trial 1 finished with value: -30.427816059591684 and parameters: {'x': 4.4064898688431615}. Best is trial 0 with value: -3.1678380688122374.\n",
      "[I 2023-09-05 17:36:40,601] Trial 2 finished with value: -205.90622311505624 and parameters: {'x': -9.997712503653101}. Best is trial 0 with value: -3.1678380688122374.\n",
      "[I 2023-09-05 17:36:40,601] Trial 3 finished with value: -31.211278021240723 and parameters: {'x': -3.9533485473632046}. Best is trial 0 with value: -3.1678380688122374.\n",
      "[I 2023-09-05 17:36:40,602] Trial 4 finished with value: -102.89000272158682 and parameters: {'x': -7.064882183657739}. Best is trial 0 with value: -3.1678380688122374.\n",
      "[I 2023-09-05 17:36:40,602] Trial 5 finished with value: -137.10348515668684 and parameters: {'x': -8.153228104624045}. Best is trial 0 with value: -3.1678380688122374.\n",
      "[I 2023-09-05 17:36:40,603] Trial 6 finished with value: -81.02091974427358 and parameters: {'x': -6.274795772446582}. Best is trial 0 with value: -3.1678380688122374.\n",
      "[I 2023-09-05 17:36:40,603] Trial 7 finished with value: -18.169976684316644 and parameters: {'x': -3.0887854591390447}. Best is trial 0 with value: -3.1678380688122374.\n",
      "[I 2023-09-05 17:36:40,604] Trial 8 finished with value: -6.590214016758917 and parameters: {'x': -2.0646505153866013}. Best is trial 0 with value: -3.1678380688122374.\n",
      "[I 2023-09-05 17:36:40,605] Trial 9 finished with value: 3.5709436091172453 and parameters: {'x': 0.7763346800671389}. Best is trial 9 with value: 3.5709436091172453.\n",
      "[I 2023-09-05 17:36:40,605] Trial 10 finished with value: -2.8397309139495714 and parameters: {'x': -1.6161097119341044}. Best is trial 9 with value: 3.5709436091172453.\n",
      "[I 2023-09-05 17:36:40,606] Trial 11 finished with value: -19.74062065384497 and parameters: {'x': 3.7043900079351904}. Best is trial 9 with value: 3.5709436091172453.\n",
      "[I 2023-09-05 17:36:40,606] Trial 12 finished with value: -71.7897331563787 and parameters: {'x': -5.910955005369651}. Best is trial 9 with value: 3.5709436091172453.\n",
      "[I 2023-09-05 17:36:40,609] Trial 13 finished with value: -102.81588783446958 and parameters: {'x': 7.562348727818907}. Best is trial 9 with value: 3.5709436091172453.\n",
      "[I 2023-09-05 17:36:40,610] Trial 14 finished with value: -184.14223778664058 and parameters: {'x': -9.452248136041476}. Best is trial 9 with value: 3.5709436091172453.\n",
      "[I 2023-09-05 17:36:40,610] Trial 15 finished with value: -15.837987417570886 and parameters: {'x': 3.409350203568044}. Best is trial 9 with value: 3.5709436091172453.\n",
      "[I 2023-09-05 17:36:40,611] Trial 16 finished with value: -3.124700521889401 and parameters: {'x': -1.6539039526574602}. Best is trial 9 with value: 3.5709436091172453.\n",
      "[I 2023-09-05 17:36:40,612] Trial 17 finished with value: 2.418199798521623 and parameters: {'x': 1.1737965689150336}. Best is trial 9 with value: 3.5709436091172453.\n",
      "[I 2023-09-05 17:36:40,613] Trial 18 finished with value: -106.64950437442184 and parameters: {'x': -7.192261228095324}. Best is trial 9 with value: 3.5709436091172453.\n",
      "[I 2023-09-05 17:36:40,613] Trial 19 finished with value: -74.95213893251648 and parameters: {'x': -6.037970218302425}. Best is trial 9 with value: 3.5709436091172453.\n",
      "[I 2023-09-05 17:36:40,614] Trial 20 finished with value: -62.34294509675691 and parameters: {'x': 6.014891373510732}. Best is trial 9 with value: 3.5709436091172453.\n",
      "[I 2023-09-05 17:36:40,614] Trial 21 finished with value: -162.0498911217825 and parameters: {'x': 9.36523151438795}. Best is trial 9 with value: 3.5709436091172453.\n",
      "[I 2023-09-05 17:36:40,615] Trial 22 finished with value: -27.579946273258308 and parameters: {'x': -3.7315164368151432}. Best is trial 9 with value: 3.5709436091172453.\n",
      "[I 2023-09-05 17:36:40,615] Trial 23 finished with value: -21.74393848492307 and parameters: {'x': 3.8464523133862816}. Best is trial 9 with value: 3.5709436091172453.\n",
      "[I 2023-09-05 17:36:40,616] Trial 24 finished with value: -101.80725212698351 and parameters: {'x': 7.527783045920767}. Best is trial 9 with value: 3.5709436091172453.\n",
      "[I 2023-09-05 17:36:40,616] Trial 25 finished with value: -112.67940183523393 and parameters: {'x': 7.892133270076947}. Best is trial 9 with value: 3.5709436091172453.\n",
      "[I 2023-09-05 17:36:40,617] Trial 26 finished with value: -142.04976098678807 and parameters: {'x': -8.299115772604441}. Best is trial 9 with value: 3.5709436091172453.\n",
      "[I 2023-09-05 17:36:40,617] Trial 27 finished with value: -175.19529862373042 and parameters: {'x': -9.218904335342353}. Best is trial 9 with value: 3.5709436091172453.\n",
      "[I 2023-09-05 17:36:40,618] Trial 28 finished with value: -89.8129530846355 and parameters: {'x': -6.6033916087086215}. Best is trial 9 with value: 3.5709436091172453.\n",
      "[I 2023-09-05 17:36:40,618] Trial 29 finished with value: -102.83055225130268 and parameters: {'x': 7.562850068588261}. Best is trial 9 with value: 3.5709436091172453.\n"
     ]
    }
   ],
   "source": [
    "from optuna.samplers import RandomSampler\n",
    "#nossa funcao sera de maximizacao (por isso direction=maximize)\n",
    "#o sampler que define a estratégia de busca. \n",
    "#Neste caso, será feita uma busca totalmente aleatória\n",
    "study_random = optuna.create_study(sampler=RandomSampler(seed=1), direction=\"maximize\")\n",
    "#colocamos 30 tentativas\n",
    "study_random.optimize(funcao_objetivo, n_trials=30)"
   ]
  },
  {
   "cell_type": "markdown",
   "metadata": {},
   "source": [
    "Veja os pontos analisados e a melhor solução encontrada usando esse método além da comparação com o valor ótimo (que seria 0.25): "
   ]
  },
  {
   "cell_type": "code",
   "execution_count": 6,
   "metadata": {},
   "outputs": [
    {
     "name": "stdout",
     "output_type": "stream",
     "text": [
      "Melhor ponto: 0.7763346800671389 ponto ótimo: 0.25 diferença: 0.5263346800671389\n"
     ]
    },
    {
     "data": {
      "image/png": "[encoded data removed]",
      "text/plain": [
       "<Figure size 640x480 with 1 Axes>"
      ]
     },
     "metadata": {},
     "output_type": "display_data"
    }
   ],
   "source": [
    "def plot_best_trials(study,x_otimo):\n",
    "    desenha_funcao()\n",
    "\n",
    "    #obtem o valor de paramtro x e o resultado para cada tentativa testada e armazena no vetor\n",
    "    #para cada um desses valores, plota no grafico \n",
    "    for trial in study.get_trials():\n",
    "        x = trial.params[\"x\"]\n",
    "        y = trial.value\n",
    "        #apresenta apenas pontos com diferença < 20 do ponto otimo\n",
    "        diff_otimo = abs(x_otimo-x)\n",
    "        plt.scatter(x, y,marker=\"o\")\n",
    "    best_x = study.best_trial.params['x']\n",
    "    print(f\"Melhor ponto: {best_x} ponto ótimo: {x_otimo} diferença: {abs(best_x-x_otimo)}\")\n",
    "plot_best_trials(study_random,0.25)"
   ]
  },
  {
   "cell_type": "markdown",
   "metadata": {},
   "source": [
    "Veja que, com a busca aleatória, encontramos um valor muito diferente do ideal. Agora, se fizermos uma busca usando o método Tree Partzen Estimator:"
   ]
  },
  {
   "cell_type": "code",
   "execution_count": 7,
   "metadata": {},
   "outputs": [
    {
     "name": "stderr",
     "output_type": "stream",
     "text": [
      "[I 2023-09-05 17:36:40,905] A new study created in memory with name: no-name-6f129aad-cb96-4e0d-afe8-1e377a4c1c27\n",
      "C:\\Users\\Victor\\AppData\\Local\\Temp\\ipykernel_30012\\2174563000.py:7: FutureWarning: suggest_uniform has been deprecated in v3.0.0. This feature will be removed in v6.0.0. See https://github.com/optuna/optuna/releases/tag/v3.0.0. Use suggest_float instead.\n",
      "  x = trial.suggest_uniform('x', -10, 10)\n",
      "[I 2023-09-05 17:36:40,905] Trial 0 finished with value: -3.1678380688122374 and parameters: {'x': -1.6595599059485195}. Best is trial 0 with value: -3.1678380688122374.\n",
      "[I 2023-09-05 17:36:40,907] Trial 1 finished with value: -30.427816059591684 and parameters: {'x': 4.4064898688431615}. Best is trial 0 with value: -3.1678380688122374.\n",
      "[I 2023-09-05 17:36:40,907] Trial 2 finished with value: -205.90622311505624 and parameters: {'x': -9.997712503653101}. Best is trial 0 with value: -3.1678380688122374.\n",
      "[I 2023-09-05 17:36:40,908] Trial 3 finished with value: -31.211278021240723 and parameters: {'x': -3.9533485473632046}. Best is trial 0 with value: -3.1678380688122374.\n",
      "[I 2023-09-05 17:36:40,909] Trial 4 finished with value: -102.89000272158682 and parameters: {'x': -7.064882183657739}. Best is trial 0 with value: -3.1678380688122374.\n",
      "[I 2023-09-05 17:36:40,909] Trial 5 finished with value: -137.10348515668684 and parameters: {'x': -8.153228104624045}. Best is trial 0 with value: -3.1678380688122374.\n",
      "[I 2023-09-05 17:36:40,910] Trial 6 finished with value: -81.02091974427358 and parameters: {'x': -6.274795772446582}. Best is trial 0 with value: -3.1678380688122374.\n",
      "[I 2023-09-05 17:36:40,911] Trial 7 finished with value: -18.169976684316644 and parameters: {'x': -3.0887854591390447}. Best is trial 0 with value: -3.1678380688122374.\n",
      "[I 2023-09-05 17:36:40,911] Trial 8 finished with value: -6.590214016758917 and parameters: {'x': -2.0646505153866013}. Best is trial 0 with value: -3.1678380688122374.\n",
      "[I 2023-09-05 17:36:40,912] Trial 9 finished with value: 3.5709436091172453 and parameters: {'x': 0.7763346800671389}. Best is trial 9 with value: 3.5709436091172453.\n",
      "[I 2023-09-05 17:36:40,915] Trial 10 finished with value: -14.148203287243138 and parameters: {'x': 3.2726812011228654}. Best is trial 9 with value: 3.5709436091172453.\n",
      "[I 2023-09-05 17:36:40,921] Trial 11 finished with value: 3.906286132643851 and parameters: {'x': 0.5806915990436927}. Best is trial 11 with value: 3.906286132643851.\n",
      "[I 2023-09-05 17:36:40,924] Trial 12 finished with value: -0.07030869584933974 and parameters: {'x': 1.6983281216370378}. Best is trial 11 with value: 3.906286132643851.\n",
      "[I 2023-09-05 17:36:40,928] Trial 13 finished with value: -88.86247594256582 and parameters: {'x': 7.068631678810853}. Best is trial 11 with value: 3.906286132643851.\n",
      "[I 2023-09-05 17:36:40,931] Trial 14 finished with value: 4.088492501913052 and parameters: {'x': 0.3851064359809472}. Best is trial 14 with value: 4.088492501913052.\n",
      "[I 2023-09-05 17:36:40,934] Trial 15 finished with value: 3.8975947262600537 and parameters: {'x': -0.08719821599464783}. Best is trial 14 with value: 4.088492501913052.\n",
      "[I 2023-09-05 17:36:40,937] Trial 16 finished with value: -51.99433738715068 and parameters: {'x': 5.547137783140565}. Best is trial 14 with value: 4.088492501913052.\n",
      "[I 2023-09-05 17:36:40,940] Trial 17 finished with value: -180.87943707730446 and parameters: {'x': 9.867807366476635}. Best is trial 14 with value: 4.088492501913052.\n",
      "[I 2023-09-05 17:36:40,943] Trial 18 finished with value: -5.417729419210801 and parameters: {'x': 2.434345373242382}. Best is trial 14 with value: 4.088492501913052.\n",
      "[I 2023-09-05 17:36:40,948] Trial 19 finished with value: 3.528522277447215 and parameters: {'x': -0.29611249873665435}. Best is trial 14 with value: 4.088492501913052.\n",
      "[I 2023-09-05 17:36:40,951] Trial 20 finished with value: 0.1954329818231333 and parameters: {'x': 1.6517073550097514}. Best is trial 14 with value: 4.088492501913052.\n",
      "[I 2023-09-05 17:36:40,954] Trial 21 finished with value: 3.5223332693894718 and parameters: {'x': -0.29893839846130654}. Best is trial 14 with value: 4.088492501913052.\n",
      "[I 2023-09-05 17:36:40,957] Trial 22 finished with value: 3.2726697033313767 and parameters: {'x': -0.4028132568616478}. Best is trial 14 with value: 4.088492501913052.\n",
      "[I 2023-09-05 17:36:40,960] Trial 23 finished with value: -27.62148074244959 and parameters: {'x': -3.7341235386499747}. Best is trial 14 with value: 4.088492501913052.\n",
      "[I 2023-09-05 17:36:40,964] Trial 24 finished with value: 2.3415163680887825 and parameters: {'x': 1.194320822578645}. Best is trial 14 with value: 4.088492501913052.\n",
      "[I 2023-09-05 17:36:40,967] Trial 25 finished with value: -19.823988635888863 and parameters: {'x': 3.710418228761436}. Best is trial 14 with value: 4.088492501913052.\n",
      "[I 2023-09-05 17:36:40,970] Trial 26 finished with value: 1.4161757070052525 and parameters: {'x': -0.9137921405892779}. Best is trial 14 with value: 4.088492501913052.\n",
      "[I 2023-09-05 17:36:40,974] Trial 27 finished with value: 4.034087075003655 and parameters: {'x': 0.46320521217402816}. Best is trial 14 with value: 4.088492501913052.\n",
      "[I 2023-09-05 17:36:40,977] Trial 28 finished with value: -8.65381464288747 and parameters: {'x': 2.777727699227853}. Best is trial 14 with value: 4.088492501913052.\n",
      "[I 2023-09-05 17:36:40,981] Trial 29 finished with value: -2.9208254699969913 and parameters: {'x': -1.6269423898986606}. Best is trial 14 with value: 4.088492501913052.\n"
     ]
    }
   ],
   "source": [
    "from optuna.samplers import TPESampler\n",
    "#Para o TPE, é importante passar o numero de tentativas iniciais\n",
    "#essas serão as unicas que serão totalmente aleatorias para explorar o espaço\n",
    "tpe_sampler = TPESampler(n_startup_trials = 10,seed=1)\n",
    "study_TP = optuna.create_study(sampler=tpe_sampler, direction=\"maximize\")\n",
    "#colocamos 30 tentativas (destas, 10 serão aleatorias e, o restante, considerando o algoritmo)\n",
    "study_TP.optimize(funcao_objetivo, n_trials=30)"
   ]
  },
  {
   "cell_type": "code",
   "execution_count": 8,
   "metadata": {},
   "outputs": [
    {
     "name": "stdout",
     "output_type": "stream",
     "text": [
      "Melhor ponto: 0.3851064359809472 ponto ótimo: 0.25 diferença: 0.13510643598094718\n"
     ]
    },
    {
     "data": {
      "image/png": "[encoded data removed]",
      "text/plain": [
       "<Figure size 640x480 with 1 Axes>"
      ]
     },
     "metadata": {},
     "output_type": "display_data"
    }
   ],
   "source": [
    "plot_best_trials(study_TP,0.25)"
   ]
  },
  {
   "cell_type": "markdown",
   "metadata": {},
   "source": [
    "Veja que na busca usando o TPE houveram mais tentativas próximas ao ponto ótimo e a melhor solução ficou muito mais próxima ao ponto ótimo."
   ]
  },
  {
   "cell_type": "markdown",
   "metadata": {},
   "source": [
    "## Optuna em um método de aprendizado de máquina"
   ]
  },
  {
   "cell_type": "markdown",
   "metadata": {},
   "source": [
    "Fizemos um exemplo ilustrativo e agora iremos mostrar como aplicar Optuna para avaliar parametros de um método de aprendizado de Máquina. O Optuna será aplicado em um fold. Ou seja, para um determinado fold, deverá ser avaliado qual é o melhor parametro, sempre usando os folds de validação desse fold. \n",
    "\n",
    "Veja um esqueleto do código que poderia ser feito, usando uma função dentro da outra:"
   ]
  },
  {
   "cell_type": "code",
   "execution_count": 9,
   "metadata": {},
   "outputs": [
    {
     "name": "stderr",
     "output_type": "stream",
     "text": [
      "[I 2023-09-05 17:36:41,909] A new study created in memory with name: no-name-d771ff3f-0a1b-4df0-80c1-4cdcde35d980\n",
      "C:\\Users\\Victor\\AppData\\Local\\Temp\\ipykernel_30012\\2755035974.py:10: FutureWarning: suggest_uniform has been deprecated in v3.0.0. This feature will be removed in v6.0.0. See https://github.com/optuna/optuna/releases/tag/v3.0.0. Use suggest_float instead.\n",
      "  x = trial.suggest_uniform('x', -10, 10)\n",
      "[I 2023-09-05 17:36:41,910] Trial 0 finished with value: 0.5 and parameters: {'x': -1.6595599059485195}. Best is trial 0 with value: 0.5.\n",
      "[I 2023-09-05 17:36:41,910] Trial 1 finished with value: 0.5 and parameters: {'x': 4.4064898688431615}. Best is trial 0 with value: 0.5.\n",
      "[I 2023-09-05 17:36:41,911] Trial 2 finished with value: 0.5 and parameters: {'x': -9.997712503653101}. Best is trial 0 with value: 0.5.\n",
      "[I 2023-09-05 17:36:41,912] Trial 3 finished with value: 0.5 and parameters: {'x': -3.9533485473632046}. Best is trial 0 with value: 0.5.\n",
      "[I 2023-09-05 17:36:41,913] Trial 4 finished with value: 0.5 and parameters: {'x': -7.064882183657739}. Best is trial 0 with value: 0.5.\n",
      "[I 2023-09-05 17:36:41,913] Trial 5 finished with value: 0.5 and parameters: {'x': -8.153228104624045}. Best is trial 0 with value: 0.5.\n",
      "[I 2023-09-05 17:36:41,914] Trial 6 finished with value: 0.5 and parameters: {'x': -6.274795772446582}. Best is trial 0 with value: 0.5.\n",
      "[I 2023-09-05 17:36:41,915] Trial 7 finished with value: 0.5 and parameters: {'x': -3.0887854591390447}. Best is trial 0 with value: 0.5.\n",
      "[I 2023-09-05 17:36:41,915] Trial 8 finished with value: 0.5 and parameters: {'x': -2.0646505153866013}. Best is trial 0 with value: 0.5.\n",
      "[I 2023-09-05 17:36:41,917] Trial 9 finished with value: 0.5 and parameters: {'x': 0.7763346800671389}. Best is trial 0 with value: 0.5.\n",
      "[I 2023-09-05 17:36:41,920] Trial 10 finished with value: 0.5 and parameters: {'x': 9.327633476993272}. Best is trial 0 with value: 0.5.\n",
      "[I 2023-09-05 17:36:41,924] Trial 11 finished with value: 0.5 and parameters: {'x': 2.704440514157268}. Best is trial 0 with value: 0.5.\n",
      "[I 2023-09-05 17:36:41,927] Trial 12 finished with value: 0.5 and parameters: {'x': 3.776666340920439}. Best is trial 0 with value: 0.5.\n",
      "[I 2023-09-05 17:36:41,931] Trial 13 finished with value: 0.5 and parameters: {'x': 5.438919459128677}. Best is trial 0 with value: 0.5.\n",
      "[I 2023-09-05 17:36:41,934] Trial 14 finished with value: 0.5 and parameters: {'x': -0.30196181673295985}. Best is trial 0 with value: 0.5.\n",
      "[I 2023-09-05 17:36:41,938] Trial 15 finished with value: 0.5 and parameters: {'x': 6.9503795053176365}. Best is trial 0 with value: 0.5.\n",
      "[I 2023-09-05 17:36:41,941] Trial 16 finished with value: 0.5 and parameters: {'x': 1.80731309497886}. Best is trial 0 with value: 0.5.\n",
      "[I 2023-09-05 17:36:41,946] Trial 17 finished with value: 0.5 and parameters: {'x': -0.4557771468675771}. Best is trial 0 with value: 0.5.\n",
      "[I 2023-09-05 17:36:41,948] Trial 18 finished with value: 0.5 and parameters: {'x': 4.78576202200499}. Best is trial 0 with value: 0.5.\n",
      "[I 2023-09-05 17:36:41,952] Trial 19 finished with value: 0.5 and parameters: {'x': 2.4703221100703527}. Best is trial 0 with value: 0.5.\n",
      "[I 2023-09-05 17:36:41,956] Trial 20 finished with value: 0.5 and parameters: {'x': -1.6607890513269945}. Best is trial 0 with value: 0.5.\n",
      "[I 2023-09-05 17:36:41,960] Trial 21 finished with value: 0.5 and parameters: {'x': -9.863775522453281}. Best is trial 0 with value: 0.5.\n",
      "[I 2023-09-05 17:36:41,964] Trial 22 finished with value: 0.5 and parameters: {'x': -5.688488102426983}. Best is trial 0 with value: 0.5.\n",
      "[I 2023-09-05 17:36:41,967] Trial 23 finished with value: 0.5 and parameters: {'x': -4.704842848225891}. Best is trial 0 with value: 0.5.\n",
      "[I 2023-09-05 17:36:41,971] Trial 24 finished with value: 0.5 and parameters: {'x': -4.223873023393164}. Best is trial 0 with value: 0.5.\n",
      "[I 2023-09-05 17:36:41,975] Trial 25 finished with value: 0.5 and parameters: {'x': -9.638474516101574}. Best is trial 0 with value: 0.5.\n",
      "[I 2023-09-05 17:36:41,979] Trial 26 finished with value: 0.5 and parameters: {'x': 0.780813698995281}. Best is trial 0 with value: 0.5.\n",
      "[I 2023-09-05 17:36:41,982] Trial 27 finished with value: 0.5 and parameters: {'x': -7.25929771508454}. Best is trial 0 with value: 0.5.\n",
      "[I 2023-09-05 17:36:41,985] Trial 28 finished with value: 0.5 and parameters: {'x': -2.719579830598193}. Best is trial 0 with value: 0.5.\n",
      "[I 2023-09-05 17:36:41,987] Trial 29 finished with value: 0.5 and parameters: {'x': -5.094340082891684}. Best is trial 0 with value: 0.5.\n"
     ]
    },
    {
     "name": "stdout",
     "output_type": "stream",
     "text": [
      "Melhor execução: {'x': -1.6595599059485195}\n"
     ]
    }
   ],
   "source": [
    "from optuna.samplers import TPESampler\n",
    "import optuna \n",
    "from tests import Dados\n",
    "from resultado import Fold\n",
    "\n",
    "def executa_fold(fold):\n",
    "    \n",
    "    def objetivo_ap_de_maquina(trial: optuna.Trial):\n",
    "        #suponha que temos o parametro x para ajustar\n",
    "        x = trial.suggest_uniform('x', -10, 10)\n",
    "        \n",
    "        #navega em cada um dos folds de validação \n",
    "        soma = 0\n",
    "        for fold_validacao in fold.arr_folds_validacao:\n",
    "            #1. roda um metodo de aprendizado de maquina para o fold_validacao \n",
    "            #usando o parametro x\n",
    "            \n",
    "            #2. armazena resultado em resultado fold\n",
    "            resultado_fold = 0.5#colcoamos um resultado fixo para funcionar\n",
    "            \n",
    "            #3. faz o somatorio para a media\n",
    "            soma += resultado_fold\n",
    "        #4. a funcao objetivo é retornada como a media dos folds de validação\n",
    "        return soma/len(fold.arr_folds_validacao)\n",
    "    \n",
    "    tpe_sampler = TPESampler(n_startup_trials = 10,seed=1)\n",
    "    study_TP = optuna.create_study(sampler=tpe_sampler, direction=\"maximize\")\n",
    "    #colocamos 30 tentativas (destas, 10 serão aleatorias e, o restante, considerando o algoritmo)\n",
    "    study_TP.optimize(objetivo_ap_de_maquina, n_trials=30)\n",
    "    \n",
    "    print(f\"Melhor execução: {study_TP.best_trial.params}\")\n",
    "    #aplica o melhor parametro no teste\n",
    "    #...\n",
    "fold = Fold(Dados.df_treino,Dados.df_teste,\"realClass\",num_folds_validacao=5,num_repeticoes_validacao=2)\n",
    "executa_fold(fold)"
   ]
  },
  {
   "cell_type": "markdown",
   "metadata": {},
   "source": [
    "Não se preocupe que o resultado que ésempre o mesmo, pois implementamos apenas o esqueleto do codigo e deixamos o resultado fixo como \"0.5\". No lugar disso, deveriamos colocar o resultado do método de aprendizado de máquina (como acurária ou macro f1, por exemplo)."
   ]
  },
  {
   "cell_type": "markdown",
   "metadata": {},
   "source": [
    "O código não ficou tão bom pois, como não podemos criar parametros novos na função objetivo e temos que passar o fold na função objetivo, ela tem que ser uma \"variavel global\" a função. Então, se quisermos fazer dessa forma, a função objetivo sempre será sub-função da função/método que calcula todos os resultados. Isso não fica muito legivel e é pouco flexível. Pois, cada método de aprendizado de máquina possui sua própria variação de parametros. Criar várias funções objetivos dentro de uma função de calculo de resultado não ficaria tão legivel e você não poderia usar essas funções externamente. \n",
    "\n",
    "Para melhorarmos isso, podemos criar uma classe que é \"invocável\" ou seja, um classe em que os objetos podem ser chamados (veja [slides](https://daniel-hasan.github.io/cefet-web-grad/classes/python2/#27) e [video-aula](https://www.youtube.com/watch?v=EXmr7zttGWE&list=PLwIaU1DGYV6skjkahOKtpgs9bPXlrVrIp&index=10)). Assim, o fold seria um atributo dessa classe e o código ficaria mais limpo, da seguinte forma: "
   ]
  },
  {
   "cell_type": "code",
   "execution_count": 10,
   "metadata": {},
   "outputs": [
    {
     "name": "stderr",
     "output_type": "stream",
     "text": [
      "[I 2023-09-05 17:36:41,998] A new study created in memory with name: no-name-d0578585-578a-438d-bbf1-9547f63d40f6\n",
      "C:\\Users\\Victor\\AppData\\Local\\Temp\\ipykernel_30012\\1370866795.py:6: FutureWarning: suggest_uniform has been deprecated in v3.0.0. This feature will be removed in v6.0.0. See https://github.com/optuna/optuna/releases/tag/v3.0.0. Use suggest_float instead.\n",
      "  x = trial.suggest_uniform('x', -10, 10)\n",
      "[I 2023-09-05 17:36:41,999] Trial 0 finished with value: 0.5 and parameters: {'x': -1.6595599059485195}. Best is trial 0 with value: 0.5.\n",
      "[I 2023-09-05 17:36:42,000] Trial 1 finished with value: 0.5 and parameters: {'x': 4.4064898688431615}. Best is trial 0 with value: 0.5.\n",
      "[I 2023-09-05 17:36:42,001] Trial 2 finished with value: 0.5 and parameters: {'x': -9.997712503653101}. Best is trial 0 with value: 0.5.\n",
      "[I 2023-09-05 17:36:42,001] Trial 3 finished with value: 0.5 and parameters: {'x': -3.9533485473632046}. Best is trial 0 with value: 0.5.\n",
      "[I 2023-09-05 17:36:42,002] Trial 4 finished with value: 0.5 and parameters: {'x': -7.064882183657739}. Best is trial 0 with value: 0.5.\n",
      "[I 2023-09-05 17:36:42,003] Trial 5 finished with value: 0.5 and parameters: {'x': -8.153228104624045}. Best is trial 0 with value: 0.5.\n",
      "[I 2023-09-05 17:36:42,003] Trial 6 finished with value: 0.5 and parameters: {'x': -6.274795772446582}. Best is trial 0 with value: 0.5.\n",
      "[I 2023-09-05 17:36:42,004] Trial 7 finished with value: 0.5 and parameters: {'x': -3.0887854591390447}. Best is trial 0 with value: 0.5.\n",
      "[I 2023-09-05 17:36:42,004] Trial 8 finished with value: 0.5 and parameters: {'x': -2.0646505153866013}. Best is trial 0 with value: 0.5.\n",
      "[I 2023-09-05 17:36:42,005] Trial 9 finished with value: 0.5 and parameters: {'x': 0.7763346800671389}. Best is trial 0 with value: 0.5.\n",
      "[I 2023-09-05 17:36:42,009] Trial 10 finished with value: 0.5 and parameters: {'x': 9.327633476993272}. Best is trial 0 with value: 0.5.\n",
      "[I 2023-09-05 17:36:42,013] Trial 11 finished with value: 0.5 and parameters: {'x': 2.704440514157268}. Best is trial 0 with value: 0.5.\n",
      "[I 2023-09-05 17:36:42,018] Trial 12 finished with value: 0.5 and parameters: {'x': 3.776666340920439}. Best is trial 0 with value: 0.5.\n",
      "[I 2023-09-05 17:36:42,022] Trial 13 finished with value: 0.5 and parameters: {'x': 5.438919459128677}. Best is trial 0 with value: 0.5.\n",
      "[I 2023-09-05 17:36:42,025] Trial 14 finished with value: 0.5 and parameters: {'x': -0.30196181673295985}. Best is trial 0 with value: 0.5.\n",
      "[I 2023-09-05 17:36:42,029] Trial 15 finished with value: 0.5 and parameters: {'x': 6.9503795053176365}. Best is trial 0 with value: 0.5.\n",
      "[I 2023-09-05 17:36:42,032] Trial 16 finished with value: 0.5 and parameters: {'x': 1.80731309497886}. Best is trial 0 with value: 0.5.\n",
      "[I 2023-09-05 17:36:42,035] Trial 17 finished with value: 0.5 and parameters: {'x': -0.4557771468675771}. Best is trial 0 with value: 0.5.\n",
      "[I 2023-09-05 17:36:42,038] Trial 18 finished with value: 0.5 and parameters: {'x': 4.78576202200499}. Best is trial 0 with value: 0.5.\n",
      "[I 2023-09-05 17:36:42,041] Trial 19 finished with value: 0.5 and parameters: {'x': 2.4703221100703527}. Best is trial 0 with value: 0.5.\n",
      "[I 2023-09-05 17:36:42,043] Trial 20 finished with value: 0.5 and parameters: {'x': -1.6607890513269945}. Best is trial 0 with value: 0.5.\n",
      "[I 2023-09-05 17:36:42,047] Trial 21 finished with value: 0.5 and parameters: {'x': -9.863775522453281}. Best is trial 0 with value: 0.5.\n",
      "[I 2023-09-05 17:36:42,050] Trial 22 finished with value: 0.5 and parameters: {'x': -5.688488102426983}. Best is trial 0 with value: 0.5.\n",
      "[I 2023-09-05 17:36:42,053] Trial 23 finished with value: 0.5 and parameters: {'x': -4.704842848225891}. Best is trial 0 with value: 0.5.\n",
      "[I 2023-09-05 17:36:42,058] Trial 24 finished with value: 0.5 and parameters: {'x': -4.223873023393164}. Best is trial 0 with value: 0.5.\n",
      "[I 2023-09-05 17:36:42,061] Trial 25 finished with value: 0.5 and parameters: {'x': -9.638474516101574}. Best is trial 0 with value: 0.5.\n",
      "[I 2023-09-05 17:36:42,064] Trial 26 finished with value: 0.5 and parameters: {'x': 0.780813698995281}. Best is trial 0 with value: 0.5.\n",
      "[I 2023-09-05 17:36:42,068] Trial 27 finished with value: 0.5 and parameters: {'x': -7.25929771508454}. Best is trial 0 with value: 0.5.\n",
      "[I 2023-09-05 17:36:42,071] Trial 28 finished with value: 0.5 and parameters: {'x': -2.719579830598193}. Best is trial 0 with value: 0.5.\n",
      "[I 2023-09-05 17:36:42,074] Trial 29 finished with value: 0.5 and parameters: {'x': -5.094340082891684}. Best is trial 0 with value: 0.5.\n"
     ]
    },
    {
     "name": "stdout",
     "output_type": "stream",
     "text": [
      "Melhor execução: {'x': -1.6595599059485195}\n"
     ]
    }
   ],
   "source": [
    "class ObjetivoApDeMaquina:\n",
    "    def __init__(self,fold):\n",
    "        self.fold = fold\n",
    "    def __call__(self, trial: optuna.Trial):\n",
    "                #suponha que temos o parametro x para ajustar\n",
    "        x = trial.suggest_uniform('x', -10, 10)\n",
    "        \n",
    "        #navega em cada um dos folds de validação \n",
    "        soma = 0\n",
    "        for fold_validacao in fold.arr_folds_validacao:\n",
    "            #1. roda um metodo de aprendizado de maquina para o fold_validacao \n",
    "            #usando o parametro x\n",
    "            \n",
    "            #2. armazena resultado em resultado fold\n",
    "            resultado_fold = 0.5#colcoamos um resultado fixo para funcionar\n",
    "            \n",
    "            #3. faz o somatorio para a media\n",
    "            soma += resultado_fold\n",
    "        #4. a funcao objetivo é retornada como a media dos folds de validação\n",
    "        return soma/len(fold.arr_folds_validacao)\n",
    "def executa_fold(fold):\n",
    "\n",
    "    otimiza_fold = ObjetivoApDeMaquina(fold)\n",
    "    \n",
    "    tpe_sampler = TPESampler(n_startup_trials = 10,seed=1)\n",
    "    study_TP = optuna.create_study(sampler=tpe_sampler, direction=\"maximize\")\n",
    "    #colocamos 30 tentativas (destas, 10 serão aleatorias e, o restante, considerando o algoritmo)\n",
    "    study_TP.optimize(otimiza_fold, n_trials=30)\n",
    "    \n",
    "    print(f\"Melhor execução: {study_TP.best_trial.params}\")\n",
    "    #aplica o melhor parametro no teste\n",
    "    #...\n",
    "fold = Fold(Dados.df_treino,Dados.df_teste,\"realClass\",num_folds_validacao=5,num_repeticoes_validacao=2)\n",
    "executa_fold(fold)"
   ]
  },
  {
   "cell_type": "markdown",
   "metadata": {},
   "source": [
    "Para ficar mais flexivel ainda, como podemos possuir várias classes - uma para cada método -, podemos passar **classe como parametro**:"
   ]
  },
  {
   "cell_type": "code",
   "execution_count": 11,
   "metadata": {},
   "outputs": [
    {
     "name": "stderr",
     "output_type": "stream",
     "text": [
      "[I 2023-09-05 17:36:42,085] A new study created in memory with name: no-name-3a43e3b1-1708-408d-81bc-4e7f3337632d\n",
      "C:\\Users\\Victor\\AppData\\Local\\Temp\\ipykernel_30012\\3868601185.py:6: FutureWarning: suggest_uniform has been deprecated in v3.0.0. This feature will be removed in v6.0.0. See https://github.com/optuna/optuna/releases/tag/v3.0.0. Use suggest_float instead.\n",
      "  x = trial.suggest_uniform('x', -10, 10)\n",
      "[I 2023-09-05 17:36:42,086] Trial 0 finished with value: 0.5 and parameters: {'x': -1.6595599059485195}. Best is trial 0 with value: 0.5.\n",
      "[I 2023-09-05 17:36:42,087] Trial 1 finished with value: 0.5 and parameters: {'x': 4.4064898688431615}. Best is trial 0 with value: 0.5.\n",
      "[I 2023-09-05 17:36:42,087] Trial 2 finished with value: 0.5 and parameters: {'x': -9.997712503653101}. Best is trial 0 with value: 0.5.\n",
      "[I 2023-09-05 17:36:42,088] Trial 3 finished with value: 0.5 and parameters: {'x': -3.9533485473632046}. Best is trial 0 with value: 0.5.\n",
      "[I 2023-09-05 17:36:42,088] Trial 4 finished with value: 0.5 and parameters: {'x': -7.064882183657739}. Best is trial 0 with value: 0.5.\n",
      "[I 2023-09-05 17:36:42,089] Trial 5 finished with value: 0.5 and parameters: {'x': -8.153228104624045}. Best is trial 0 with value: 0.5.\n",
      "[I 2023-09-05 17:36:42,089] Trial 6 finished with value: 0.5 and parameters: {'x': -6.274795772446582}. Best is trial 0 with value: 0.5.\n",
      "[I 2023-09-05 17:36:42,090] Trial 7 finished with value: 0.5 and parameters: {'x': -3.0887854591390447}. Best is trial 0 with value: 0.5.\n",
      "[I 2023-09-05 17:36:42,090] Trial 8 finished with value: 0.5 and parameters: {'x': -2.0646505153866013}. Best is trial 0 with value: 0.5.\n",
      "[I 2023-09-05 17:36:42,091] Trial 9 finished with value: 0.5 and parameters: {'x': 0.7763346800671389}. Best is trial 0 with value: 0.5.\n",
      "[I 2023-09-05 17:36:42,094] Trial 10 finished with value: 0.5 and parameters: {'x': 9.327633476993272}. Best is trial 0 with value: 0.5.\n",
      "[I 2023-09-05 17:36:42,097] Trial 11 finished with value: 0.5 and parameters: {'x': 2.704440514157268}. Best is trial 0 with value: 0.5.\n",
      "[I 2023-09-05 17:36:42,101] Trial 12 finished with value: 0.5 and parameters: {'x': 3.776666340920439}. Best is trial 0 with value: 0.5.\n",
      "[I 2023-09-05 17:36:42,105] Trial 13 finished with value: 0.5 and parameters: {'x': 5.438919459128677}. Best is trial 0 with value: 0.5.\n",
      "[I 2023-09-05 17:36:42,110] Trial 14 finished with value: 0.5 and parameters: {'x': -0.30196181673295985}. Best is trial 0 with value: 0.5.\n",
      "[I 2023-09-05 17:36:42,114] Trial 15 finished with value: 0.5 and parameters: {'x': 6.9503795053176365}. Best is trial 0 with value: 0.5.\n",
      "[I 2023-09-05 17:36:42,117] Trial 16 finished with value: 0.5 and parameters: {'x': 1.80731309497886}. Best is trial 0 with value: 0.5.\n",
      "[I 2023-09-05 17:36:42,120] Trial 17 finished with value: 0.5 and parameters: {'x': -0.4557771468675771}. Best is trial 0 with value: 0.5.\n",
      "[I 2023-09-05 17:36:42,124] Trial 18 finished with value: 0.5 and parameters: {'x': 4.78576202200499}. Best is trial 0 with value: 0.5.\n",
      "[I 2023-09-05 17:36:42,127] Trial 19 finished with value: 0.5 and parameters: {'x': 2.4703221100703527}. Best is trial 0 with value: 0.5.\n",
      "[I 2023-09-05 17:36:42,130] Trial 20 finished with value: 0.5 and parameters: {'x': -1.6607890513269945}. Best is trial 0 with value: 0.5.\n",
      "[I 2023-09-05 17:36:42,133] Trial 21 finished with value: 0.5 and parameters: {'x': -9.863775522453281}. Best is trial 0 with value: 0.5.\n",
      "[I 2023-09-05 17:36:42,137] Trial 22 finished with value: 0.5 and parameters: {'x': -5.688488102426983}. Best is trial 0 with value: 0.5.\n",
      "[I 2023-09-05 17:36:42,140] Trial 23 finished with value: 0.5 and parameters: {'x': -4.704842848225891}. Best is trial 0 with value: 0.5.\n",
      "[I 2023-09-05 17:36:42,143] Trial 24 finished with value: 0.5 and parameters: {'x': -4.223873023393164}. Best is trial 0 with value: 0.5.\n",
      "[I 2023-09-05 17:36:42,147] Trial 25 finished with value: 0.5 and parameters: {'x': -9.638474516101574}. Best is trial 0 with value: 0.5.\n",
      "[I 2023-09-05 17:36:42,150] Trial 26 finished with value: 0.5 and parameters: {'x': 0.780813698995281}. Best is trial 0 with value: 0.5.\n",
      "[I 2023-09-05 17:36:42,153] Trial 27 finished with value: 0.5 and parameters: {'x': -7.25929771508454}. Best is trial 0 with value: 0.5.\n",
      "[I 2023-09-05 17:36:42,157] Trial 28 finished with value: 0.5 and parameters: {'x': -2.719579830598193}. Best is trial 0 with value: 0.5.\n",
      "[I 2023-09-05 17:36:42,160] Trial 29 finished with value: 0.5 and parameters: {'x': -5.094340082891684}. Best is trial 0 with value: 0.5.\n"
     ]
    },
    {
     "name": "stdout",
     "output_type": "stream",
     "text": [
      "Melhor execução: {'x': -1.6595599059485195}\n"
     ]
    }
   ],
   "source": [
    "class ObjetivoApDeMaquina:\n",
    "    def __init__(self,fold):\n",
    "        self.fold = fold\n",
    "    def __call__(self, trial: optuna.Trial):\n",
    "                #suponha que temos o parametro x para ajustar\n",
    "        x = trial.suggest_uniform('x', -10, 10)\n",
    "        \n",
    "        #navega em cada um dos folds de validação \n",
    "        soma = 0\n",
    "        for fold_validacao in fold.arr_folds_validacao:\n",
    "            #1. roda um metodo de aprendizado de maquina para o fold_validacao \n",
    "            #usando o parametro x\n",
    "            \n",
    "            #2. armazena resultado em resultado fold\n",
    "            resultado_fold = 0.5#colcoamos um resultado fixo para funcionar\n",
    "            \n",
    "            #3. faz o somatorio para a media\n",
    "            soma += resultado_fold\n",
    "        #4. a funcao objetivo é retornada como a media dos folds de validação\n",
    "        return soma/len(fold.arr_folds_validacao)\n",
    "def executa_fold(fold, ClasseObjetivo):\n",
    "\n",
    "    otimiza_fold = ClasseObjetivo(fold)\n",
    "    \n",
    "    tpe_sampler = TPESampler(n_startup_trials = 10,seed=1)\n",
    "    study_TP = optuna.create_study(sampler=tpe_sampler, direction=\"maximize\")\n",
    "    #colocamos 30 tentativas (destas, 10 serão aleatorias e, o restante, considerando o algoritmo)\n",
    "    study_TP.optimize(otimiza_fold, n_trials=30)\n",
    "    \n",
    "    print(f\"Melhor execução: {study_TP.best_trial.params}\")\n",
    "    #aplica o melhor parametro no teste\n",
    "    #...\n",
    "fold = Fold(Dados.df_treino,Dados.df_teste,\"realClass\",num_folds_validacao=5,num_repeticoes_validacao=2)\n",
    "executa_fold(fold, ObjetivoApDeMaquina)"
   ]
  },
  {
   "cell_type": "markdown",
   "metadata": {},
   "source": [
    "O código que vocês irão implementar será muito similar a esses. O arquivo `avaliacao.py` já possui o esqueleto do código para vocês continuarem. A classe `Experimento` é responsável por fazer toda a experimentação, por meio de uma lista de folds e um método de aprendizado de maquina (que são parametros do construtor): (1) para cada fold, descobre-se os melhores parametros usando o(s) fold(s) de validação; (2) com o melhor parametro, é criado o modelo e aplicado o teste. Essa classe é similar também a função `executa_fold` porém um pouco maior - aplicando-se a diversos folds e a um método de aprendizado de máquina em específico. \n",
    "\n",
    "Além disso, temos que implementar as classes de otimização de parametro. A classe `OtimizacaoObjetivo` é a superclasse que possui o esqueleto do que deve ser feito para a otimização de um parametro - similar ao funcionamento da classe `ObjetivoApDeMaquina` acima, porém, temos também um vetor `arr_evaluated_methods` que armazena o método foi executado em cada tentativa - com os seus parametros já definidos. \n",
    "\n",
    "Como pode-se observar, essa classe possui métodos abstratos (ou seja, que devem ser implementados pela suas subclasses). São eles: `obtem_metodo` e o `resultado-metrica_otimizacao`. Pois, cada subclasse será referente a um método (com seus parametros) e, dependendo do método, pode-se ser retornado um valor diferente em `resultado_metrica_otimizacao` (macro F1, por exemplo) dependendo, inclusive, do contexto do problema. Veja como a classe `OtimizacaoObjetivoArvoreDecisao`, uma das subclasses, está implementada. "
   ]
  },
  {
   "cell_type": "markdown",
   "metadata": {},
   "source": [
    "Assim, faça as seguintes atividades: "
   ]
  },
  {
   "cell_type": "markdown",
   "metadata": {},
   "source": [
    "**Atividade 4 classe OtimizacaoObjetivoRandomForest**: No método `obtem_metodo` crie um modelo para a [RandomForest do scikitlearn](http://scikit-learn.org/stable/modules/generated/sklearn.ensemble.RandomForestClassifier.html) que você deverá variar os seguintes parametros: \n",
    "    - min_samples_split: de 0 a 0.5\n",
    "    - max_features: de 0  a 0.5\n",
    "    - num_arvores: inteiro de 1 a `self.num_arvores_max` (use o suggest_int)\n",
    "O método `resultado_metrica_otimizacao` deve retornar a macro F1 do resultado passado como parametro. "
   ]
  },
  {
   "cell_type": "code",
   "execution_count": 12,
   "metadata": {},
   "outputs": [
    {
     "name": "stdout",
     "output_type": "stream",
     "text": [
      "{'min_samples_split': 0.208511002351287, 'max_features': 0.36016224672107905, 'num_arvores': 1}\n",
      "{'min_samples_split': 0.15116628631591988, 'max_features': 0.07337794540855652, 'num_arvores': 1}\n",
      "{'min_samples_split': 0.09313010568883545, 'max_features': 0.17278036352152387, 'num_arvores': 2}\n",
      "{'min_samples_split': 0.2694083670016785, 'max_features': 0.2095972572016474, 'num_arvores': 4}\n",
      "{'min_samples_split': 0.10222612486575872, 'max_features': 0.4390587181954727, 'num_arvores': 1}\n",
      "{'min_samples_split': 0.3352337550892011, 'max_features': 0.20865240118356349, 'num_arvores': 3}\n",
      "{'min_samples_split': 0.07019346929761688, 'max_features': 0.0990507445424394, 'num_arvores': 5}\n",
      "{'min_samples_split': 0.48413078785969876, 'max_features': 0.15671208907962142, 'num_arvores': 4}\n",
      "{'min_samples_split': 0.43819457614801915, 'max_features': 0.44730333175192366, 'num_arvores': 1}\n",
      "{'min_samples_split': 0.01952739161644118, 'max_features': 0.08491520978228445, 'num_arvores': 5}\n",
      "{'min_samples_split': 0.0056894343988741075, 'max_features': 0.04631534712222245, 'num_arvores': 5}\n",
      "{'min_samples_split': 0.011689324655719507, 'max_features': 0.005334280560063187, 'num_arvores': 5}\n",
      "{'min_samples_split': 0.05868974653573428, 'max_features': 0.10592807537980492, 'num_arvores': 4}\n",
      "{'min_samples_split': 0.1531668507074539, 'max_features': 0.10441403515084534, 'num_arvores': 5}\n",
      "{'min_samples_split': 0.0564678484921678, 'max_features': 0.2847770597039947, 'num_arvores': 3}\n",
      "{'min_samples_split': 0.0015919020999174832, 'max_features': 0.007459525133282852, 'num_arvores': 5}\n",
      "{'min_samples_split': 0.16220694648586176, 'max_features': 0.11950653183546249, 'num_arvores': 4}\n",
      "{'min_samples_split': 0.08918096052541322, 'max_features': 0.0510068121692684, 'num_arvores': 5}\n",
      "{'min_samples_split': 0.05707691370147575, 'max_features': 0.2718056785244352, 'num_arvores': 3}\n",
      "{'min_samples_split': 0.23970055916784455, 'max_features': 0.13630505685076816, 'num_arvores': 4}\n",
      "{'min_samples_split': 0.11587722326914579, 'max_features': 0.08099084583073048, 'num_arvores': 2}\n",
      "{'min_samples_split': 0.00363365113927731, 'max_features': 0.04549681929732294, 'num_arvores': 5}\n",
      "{'min_samples_split': 0.03728322864510836, 'max_features': 0.04431890478170068, 'num_arvores': 5}\n",
      "{'min_samples_split': 0.040182350619056506, 'max_features': 0.10135677600337482, 'num_arvores': 5}\n",
      "{'min_samples_split': 0.005209143702533044, 'max_features': 0.1553303693017672, 'num_arvores': 4}\n",
      "{'min_samples_split': 0.0798197525981707, 'max_features': 0.013020367227951649, 'num_arvores': 5}\n",
      "{'min_samples_split': 0.12343554434966321, 'max_features': 0.06606769930169801, 'num_arvores': 4}\n",
      "{'min_samples_split': 0.03808116849492132, 'max_features': 0.04005097949699879, 'num_arvores': 5}\n",
      "{'min_samples_split': 0.07005044610773747, 'max_features': 0.08635811789080496, 'num_arvores': 3}\n",
      "{'min_samples_split': 0.19600208028986377, 'max_features': 0.13594839652305535, 'num_arvores': 5}\n",
      "Melhor execução: {'min_samples_split': 0.07019346929761688, 'max_features': 0.0990507445424394, 'num_arvores': 5}\n",
      "Resultado: 0.3650793650793651\n"
     ]
    },
    {
     "name": "stderr",
     "output_type": "stream",
     "text": [
      "[I 2023-09-05 17:36:43,330] A new study created in memory with name: no-name-4769b945-d2f0-4b5e-ba46-cede451522ec\n",
      "h:\\Github\\machine-learning-algorithms\\ap-de-maquina-cefetmg-avaliacao-master\\avaliacao.py:126: FutureWarning: suggest_uniform has been deprecated in v3.0.0. This feature will be removed in v6.0.0. See https://github.com/optuna/optuna/releases/tag/v3.0.0. Use suggest_float instead.\n",
      "  min_samples = trial.suggest_uniform('min_samples_split', 0, 0.5)\n",
      "h:\\Github\\machine-learning-algorithms\\ap-de-maquina-cefetmg-avaliacao-master\\avaliacao.py:127: FutureWarning: suggest_uniform has been deprecated in v3.0.0. This feature will be removed in v6.0.0. See https://github.com/optuna/optuna/releases/tag/v3.0.0. Use suggest_float instead.\n",
      "  max_features = trial.suggest_uniform('max_features', 0, 0.5)\n",
      "h:\\Github\\machine-learning-algorithms\\ap-de-maquina-cefetmg-avaliacao-master\\resultado.py:75: UndefinedMetricWarning: Não há elementos previstos para a classe 0 precisão foi definida como zero.\n",
      "  warnings.warn(\"Não há elementos previstos para a classe \"+str(classe)+\" precisão foi definida como zero.\", UndefinedMetricWarning)\n",
      "h:\\Github\\machine-learning-algorithms\\ap-de-maquina-cefetmg-avaliacao-master\\resultado.py:75: UndefinedMetricWarning: Não há elementos previstos para a classe 0 precisão foi definida como zero.\n",
      "  warnings.warn(\"Não há elementos previstos para a classe \"+str(classe)+\" precisão foi definida como zero.\", UndefinedMetricWarning)\n",
      "[I 2023-09-05 17:36:43,348] Trial 0 finished with value: 0.3194444444444444 and parameters: {'min_samples_split': 0.208511002351287, 'max_features': 0.36016224672107905, 'num_arvores': 1}. Best is trial 0 with value: 0.3194444444444444.\n",
      "h:\\Github\\machine-learning-algorithms\\ap-de-maquina-cefetmg-avaliacao-master\\avaliacao.py:126: FutureWarning: suggest_uniform has been deprecated in v3.0.0. This feature will be removed in v6.0.0. See https://github.com/optuna/optuna/releases/tag/v3.0.0. Use suggest_float instead.\n",
      "  min_samples = trial.suggest_uniform('min_samples_split', 0, 0.5)\n",
      "h:\\Github\\machine-learning-algorithms\\ap-de-maquina-cefetmg-avaliacao-master\\avaliacao.py:127: FutureWarning: suggest_uniform has been deprecated in v3.0.0. This feature will be removed in v6.0.0. See https://github.com/optuna/optuna/releases/tag/v3.0.0. Use suggest_float instead.\n",
      "  max_features = trial.suggest_uniform('max_features', 0, 0.5)\n",
      "h:\\Github\\machine-learning-algorithms\\ap-de-maquina-cefetmg-avaliacao-master\\resultado.py:75: UndefinedMetricWarning: Não há elementos previstos para a classe 0 precisão foi definida como zero.\n",
      "  warnings.warn(\"Não há elementos previstos para a classe \"+str(classe)+\" precisão foi definida como zero.\", UndefinedMetricWarning)\n",
      "h:\\Github\\machine-learning-algorithms\\ap-de-maquina-cefetmg-avaliacao-master\\resultado.py:75: UndefinedMetricWarning: Não há elementos previstos para a classe 0 precisão foi definida como zero.\n",
      "  warnings.warn(\"Não há elementos previstos para a classe \"+str(classe)+\" precisão foi definida como zero.\", UndefinedMetricWarning)\n",
      "[I 2023-09-05 17:36:43,363] Trial 1 finished with value: 0.3194444444444444 and parameters: {'min_samples_split': 0.15116628631591988, 'max_features': 0.07337794540855652, 'num_arvores': 1}. Best is trial 0 with value: 0.3194444444444444.\n",
      "h:\\Github\\machine-learning-algorithms\\ap-de-maquina-cefetmg-avaliacao-master\\avaliacao.py:126: FutureWarning: suggest_uniform has been deprecated in v3.0.0. This feature will be removed in v6.0.0. See https://github.com/optuna/optuna/releases/tag/v3.0.0. Use suggest_float instead.\n",
      "  min_samples = trial.suggest_uniform('min_samples_split', 0, 0.5)\n",
      "h:\\Github\\machine-learning-algorithms\\ap-de-maquina-cefetmg-avaliacao-master\\avaliacao.py:127: FutureWarning: suggest_uniform has been deprecated in v3.0.0. This feature will be removed in v6.0.0. See https://github.com/optuna/optuna/releases/tag/v3.0.0. Use suggest_float instead.\n",
      "  max_features = trial.suggest_uniform('max_features', 0, 0.5)\n",
      "h:\\Github\\machine-learning-algorithms\\ap-de-maquina-cefetmg-avaliacao-master\\resultado.py:75: UndefinedMetricWarning: Não há elementos previstos para a classe 1 precisão foi definida como zero.\n",
      "  warnings.warn(\"Não há elementos previstos para a classe \"+str(classe)+\" precisão foi definida como zero.\", UndefinedMetricWarning)\n",
      "h:\\Github\\machine-learning-algorithms\\ap-de-maquina-cefetmg-avaliacao-master\\resultado.py:75: UndefinedMetricWarning: Não há elementos previstos para a classe 1 precisão foi definida como zero.\n",
      "  warnings.warn(\"Não há elementos previstos para a classe \"+str(classe)+\" precisão foi definida como zero.\", UndefinedMetricWarning)\n",
      "h:\\Github\\machine-learning-algorithms\\ap-de-maquina-cefetmg-avaliacao-master\\resultado.py:75: UndefinedMetricWarning: Não há elementos previstos para a classe 1 precisão foi definida como zero.\n",
      "  warnings.warn(\"Não há elementos previstos para a classe \"+str(classe)+\" precisão foi definida como zero.\", UndefinedMetricWarning)\n",
      "h:\\Github\\machine-learning-algorithms\\ap-de-maquina-cefetmg-avaliacao-master\\resultado.py:75: UndefinedMetricWarning: Não há elementos previstos para a classe 1 precisão foi definida como zero.\n",
      "  warnings.warn(\"Não há elementos previstos para a classe \"+str(classe)+\" precisão foi definida como zero.\", UndefinedMetricWarning)\n",
      "[I 2023-09-05 17:36:43,381] Trial 2 finished with value: 0.4055555555555556 and parameters: {'min_samples_split': 0.09313010568883545, 'max_features': 0.17278036352152387, 'num_arvores': 2}. Best is trial 2 with value: 0.4055555555555556.\n",
      "h:\\Github\\machine-learning-algorithms\\ap-de-maquina-cefetmg-avaliacao-master\\avaliacao.py:126: FutureWarning: suggest_uniform has been deprecated in v3.0.0. This feature will be removed in v6.0.0. See https://github.com/optuna/optuna/releases/tag/v3.0.0. Use suggest_float instead.\n",
      "  min_samples = trial.suggest_uniform('min_samples_split', 0, 0.5)\n",
      "h:\\Github\\machine-learning-algorithms\\ap-de-maquina-cefetmg-avaliacao-master\\avaliacao.py:127: FutureWarning: suggest_uniform has been deprecated in v3.0.0. This feature will be removed in v6.0.0. See https://github.com/optuna/optuna/releases/tag/v3.0.0. Use suggest_float instead.\n",
      "  max_features = trial.suggest_uniform('max_features', 0, 0.5)\n",
      "h:\\Github\\machine-learning-algorithms\\ap-de-maquina-cefetmg-avaliacao-master\\resultado.py:75: UndefinedMetricWarning: Não há elementos previstos para a classe 0 precisão foi definida como zero.\n",
      "  warnings.warn(\"Não há elementos previstos para a classe \"+str(classe)+\" precisão foi definida como zero.\", UndefinedMetricWarning)\n",
      "h:\\Github\\machine-learning-algorithms\\ap-de-maquina-cefetmg-avaliacao-master\\resultado.py:75: UndefinedMetricWarning: Não há elementos previstos para a classe 1 precisão foi definida como zero.\n",
      "  warnings.warn(\"Não há elementos previstos para a classe \"+str(classe)+\" precisão foi definida como zero.\", UndefinedMetricWarning)\n",
      "h:\\Github\\machine-learning-algorithms\\ap-de-maquina-cefetmg-avaliacao-master\\resultado.py:75: UndefinedMetricWarning: Não há elementos previstos para a classe 1 precisão foi definida como zero.\n",
      "  warnings.warn(\"Não há elementos previstos para a classe \"+str(classe)+\" precisão foi definida como zero.\", UndefinedMetricWarning)\n",
      "[I 2023-09-05 17:36:43,409] Trial 3 finished with value: 0.3277777777777778 and parameters: {'min_samples_split': 0.2694083670016785, 'max_features': 0.2095972572016474, 'num_arvores': 4}. Best is trial 2 with value: 0.4055555555555556.\n",
      "h:\\Github\\machine-learning-algorithms\\ap-de-maquina-cefetmg-avaliacao-master\\avaliacao.py:126: FutureWarning: suggest_uniform has been deprecated in v3.0.0. This feature will be removed in v6.0.0. See https://github.com/optuna/optuna/releases/tag/v3.0.0. Use suggest_float instead.\n",
      "  min_samples = trial.suggest_uniform('min_samples_split', 0, 0.5)\n",
      "h:\\Github\\machine-learning-algorithms\\ap-de-maquina-cefetmg-avaliacao-master\\avaliacao.py:127: FutureWarning: suggest_uniform has been deprecated in v3.0.0. This feature will be removed in v6.0.0. See https://github.com/optuna/optuna/releases/tag/v3.0.0. Use suggest_float instead.\n",
      "  max_features = trial.suggest_uniform('max_features', 0, 0.5)\n",
      "h:\\Github\\machine-learning-algorithms\\ap-de-maquina-cefetmg-avaliacao-master\\resultado.py:75: UndefinedMetricWarning: Não há elementos previstos para a classe 0 precisão foi definida como zero.\n",
      "  warnings.warn(\"Não há elementos previstos para a classe \"+str(classe)+\" precisão foi definida como zero.\", UndefinedMetricWarning)\n",
      "h:\\Github\\machine-learning-algorithms\\ap-de-maquina-cefetmg-avaliacao-master\\resultado.py:75: UndefinedMetricWarning: Não há elementos previstos para a classe 0 precisão foi definida como zero.\n",
      "  warnings.warn(\"Não há elementos previstos para a classe \"+str(classe)+\" precisão foi definida como zero.\", UndefinedMetricWarning)\n",
      "[I 2023-09-05 17:36:43,428] Trial 4 finished with value: 0.3194444444444444 and parameters: {'min_samples_split': 0.10222612486575872, 'max_features': 0.4390587181954727, 'num_arvores': 1}. Best is trial 2 with value: 0.4055555555555556.\n",
      "h:\\Github\\machine-learning-algorithms\\ap-de-maquina-cefetmg-avaliacao-master\\avaliacao.py:126: FutureWarning: suggest_uniform has been deprecated in v3.0.0. This feature will be removed in v6.0.0. See https://github.com/optuna/optuna/releases/tag/v3.0.0. Use suggest_float instead.\n",
      "  min_samples = trial.suggest_uniform('min_samples_split', 0, 0.5)\n",
      "h:\\Github\\machine-learning-algorithms\\ap-de-maquina-cefetmg-avaliacao-master\\avaliacao.py:127: FutureWarning: suggest_uniform has been deprecated in v3.0.0. This feature will be removed in v6.0.0. See https://github.com/optuna/optuna/releases/tag/v3.0.0. Use suggest_float instead.\n",
      "  max_features = trial.suggest_uniform('max_features', 0, 0.5)\n",
      "h:\\Github\\machine-learning-algorithms\\ap-de-maquina-cefetmg-avaliacao-master\\resultado.py:75: UndefinedMetricWarning: Não há elementos previstos para a classe 0 precisão foi definida como zero.\n",
      "  warnings.warn(\"Não há elementos previstos para a classe \"+str(classe)+\" precisão foi definida como zero.\", UndefinedMetricWarning)\n",
      "h:\\Github\\machine-learning-algorithms\\ap-de-maquina-cefetmg-avaliacao-master\\resultado.py:75: UndefinedMetricWarning: Não há elementos previstos para a classe 1 precisão foi definida como zero.\n",
      "  warnings.warn(\"Não há elementos previstos para a classe \"+str(classe)+\" precisão foi definida como zero.\", UndefinedMetricWarning)\n",
      "[I 2023-09-05 17:36:43,451] Trial 5 finished with value: 0.43253968253968256 and parameters: {'min_samples_split': 0.3352337550892011, 'max_features': 0.20865240118356349, 'num_arvores': 3}. Best is trial 5 with value: 0.43253968253968256.\n",
      "h:\\Github\\machine-learning-algorithms\\ap-de-maquina-cefetmg-avaliacao-master\\avaliacao.py:126: FutureWarning: suggest_uniform has been deprecated in v3.0.0. This feature will be removed in v6.0.0. See https://github.com/optuna/optuna/releases/tag/v3.0.0. Use suggest_float instead.\n",
      "  min_samples = trial.suggest_uniform('min_samples_split', 0, 0.5)\n",
      "h:\\Github\\machine-learning-algorithms\\ap-de-maquina-cefetmg-avaliacao-master\\avaliacao.py:127: FutureWarning: suggest_uniform has been deprecated in v3.0.0. This feature will be removed in v6.0.0. See https://github.com/optuna/optuna/releases/tag/v3.0.0. Use suggest_float instead.\n",
      "  max_features = trial.suggest_uniform('max_features', 0, 0.5)\n",
      "h:\\Github\\machine-learning-algorithms\\ap-de-maquina-cefetmg-avaliacao-master\\resultado.py:75: UndefinedMetricWarning: Não há elementos previstos para a classe 0 precisão foi definida como zero.\n",
      "  warnings.warn(\"Não há elementos previstos para a classe \"+str(classe)+\" precisão foi definida como zero.\", UndefinedMetricWarning)\n",
      "[I 2023-09-05 17:36:43,482] Trial 6 finished with value: 0.48055555555555557 and parameters: {'min_samples_split': 0.07019346929761688, 'max_features': 0.0990507445424394, 'num_arvores': 5}. Best is trial 6 with value: 0.48055555555555557.\n",
      "h:\\Github\\machine-learning-algorithms\\ap-de-maquina-cefetmg-avaliacao-master\\avaliacao.py:126: FutureWarning: suggest_uniform has been deprecated in v3.0.0. This feature will be removed in v6.0.0. See https://github.com/optuna/optuna/releases/tag/v3.0.0. Use suggest_float instead.\n",
      "  min_samples = trial.suggest_uniform('min_samples_split', 0, 0.5)\n",
      "h:\\Github\\machine-learning-algorithms\\ap-de-maquina-cefetmg-avaliacao-master\\avaliacao.py:127: FutureWarning: suggest_uniform has been deprecated in v3.0.0. This feature will be removed in v6.0.0. See https://github.com/optuna/optuna/releases/tag/v3.0.0. Use suggest_float instead.\n",
      "  max_features = trial.suggest_uniform('max_features', 0, 0.5)\n",
      "h:\\Github\\machine-learning-algorithms\\ap-de-maquina-cefetmg-avaliacao-master\\resultado.py:75: UndefinedMetricWarning: Não há elementos previstos para a classe 1 precisão foi definida como zero.\n",
      "  warnings.warn(\"Não há elementos previstos para a classe \"+str(classe)+\" precisão foi definida como zero.\", UndefinedMetricWarning)\n",
      "h:\\Github\\machine-learning-algorithms\\ap-de-maquina-cefetmg-avaliacao-master\\resultado.py:75: UndefinedMetricWarning: Não há elementos previstos para a classe 0 precisão foi definida como zero.\n",
      "  warnings.warn(\"Não há elementos previstos para a classe \"+str(classe)+\" precisão foi definida como zero.\", UndefinedMetricWarning)\n",
      "h:\\Github\\machine-learning-algorithms\\ap-de-maquina-cefetmg-avaliacao-master\\resultado.py:75: UndefinedMetricWarning: Não há elementos previstos para a classe 0 precisão foi definida como zero.\n",
      "  warnings.warn(\"Não há elementos previstos para a classe \"+str(classe)+\" precisão foi definida como zero.\", UndefinedMetricWarning)\n",
      "[I 2023-09-05 17:36:43,509] Trial 7 finished with value: 0.3333333333333333 and parameters: {'min_samples_split': 0.48413078785969876, 'max_features': 0.15671208907962142, 'num_arvores': 4}. Best is trial 6 with value: 0.48055555555555557.\n",
      "h:\\Github\\machine-learning-algorithms\\ap-de-maquina-cefetmg-avaliacao-master\\avaliacao.py:126: FutureWarning: suggest_uniform has been deprecated in v3.0.0. This feature will be removed in v6.0.0. See https://github.com/optuna/optuna/releases/tag/v3.0.0. Use suggest_float instead.\n",
      "  min_samples = trial.suggest_uniform('min_samples_split', 0, 0.5)\n",
      "h:\\Github\\machine-learning-algorithms\\ap-de-maquina-cefetmg-avaliacao-master\\avaliacao.py:127: FutureWarning: suggest_uniform has been deprecated in v3.0.0. This feature will be removed in v6.0.0. See https://github.com/optuna/optuna/releases/tag/v3.0.0. Use suggest_float instead.\n",
      "  max_features = trial.suggest_uniform('max_features', 0, 0.5)\n",
      "h:\\Github\\machine-learning-algorithms\\ap-de-maquina-cefetmg-avaliacao-master\\resultado.py:75: UndefinedMetricWarning: Não há elementos previstos para a classe 1 precisão foi definida como zero.\n",
      "  warnings.warn(\"Não há elementos previstos para a classe \"+str(classe)+\" precisão foi definida como zero.\", UndefinedMetricWarning)\n",
      "h:\\Github\\machine-learning-algorithms\\ap-de-maquina-cefetmg-avaliacao-master\\resultado.py:75: UndefinedMetricWarning: Não há elementos previstos para a classe 1 precisão foi definida como zero.\n",
      "  warnings.warn(\"Não há elementos previstos para a classe \"+str(classe)+\" precisão foi definida como zero.\", UndefinedMetricWarning)\n",
      "h:\\Github\\machine-learning-algorithms\\ap-de-maquina-cefetmg-avaliacao-master\\resultado.py:75: UndefinedMetricWarning: Não há elementos previstos para a classe 0 precisão foi definida como zero.\n",
      "  warnings.warn(\"Não há elementos previstos para a classe \"+str(classe)+\" precisão foi definida como zero.\", UndefinedMetricWarning)\n",
      "h:\\Github\\machine-learning-algorithms\\ap-de-maquina-cefetmg-avaliacao-master\\resultado.py:75: UndefinedMetricWarning: Não há elementos previstos para a classe 0 precisão foi definida como zero.\n",
      "  warnings.warn(\"Não há elementos previstos para a classe \"+str(classe)+\" precisão foi definida como zero.\", UndefinedMetricWarning)\n",
      "h:\\Github\\machine-learning-algorithms\\ap-de-maquina-cefetmg-avaliacao-master\\resultado.py:75: UndefinedMetricWarning: Não há elementos previstos para a classe 0 precisão foi definida como zero.\n",
      "  warnings.warn(\"Não há elementos previstos para a classe \"+str(classe)+\" precisão foi definida como zero.\", UndefinedMetricWarning)\n",
      "h:\\Github\\machine-learning-algorithms\\ap-de-maquina-cefetmg-avaliacao-master\\resultado.py:75: UndefinedMetricWarning: Não há elementos previstos para a classe 1 precisão foi definida como zero.\n",
      "  warnings.warn(\"Não há elementos previstos para a classe \"+str(classe)+\" precisão foi definida como zero.\", UndefinedMetricWarning)\n",
      "[I 2023-09-05 17:36:43,524] Trial 8 finished with value: 0.3686507936507937 and parameters: {'min_samples_split': 0.43819457614801915, 'max_features': 0.44730333175192366, 'num_arvores': 1}. Best is trial 6 with value: 0.48055555555555557.\n",
      "h:\\Github\\machine-learning-algorithms\\ap-de-maquina-cefetmg-avaliacao-master\\avaliacao.py:126: FutureWarning: suggest_uniform has been deprecated in v3.0.0. This feature will be removed in v6.0.0. See https://github.com/optuna/optuna/releases/tag/v3.0.0. Use suggest_float instead.\n",
      "  min_samples = trial.suggest_uniform('min_samples_split', 0, 0.5)\n",
      "h:\\Github\\machine-learning-algorithms\\ap-de-maquina-cefetmg-avaliacao-master\\avaliacao.py:127: FutureWarning: suggest_uniform has been deprecated in v3.0.0. This feature will be removed in v6.0.0. See https://github.com/optuna/optuna/releases/tag/v3.0.0. Use suggest_float instead.\n",
      "  max_features = trial.suggest_uniform('max_features', 0, 0.5)\n",
      "h:\\Github\\machine-learning-algorithms\\ap-de-maquina-cefetmg-avaliacao-master\\resultado.py:75: UndefinedMetricWarning: Não há elementos previstos para a classe 0 precisão foi definida como zero.\n",
      "  warnings.warn(\"Não há elementos previstos para a classe \"+str(classe)+\" precisão foi definida como zero.\", UndefinedMetricWarning)\n",
      "[I 2023-09-05 17:36:43,558] Trial 9 finished with value: 0.48055555555555557 and parameters: {'min_samples_split': 0.01952739161644118, 'max_features': 0.08491520978228445, 'num_arvores': 5}. Best is trial 6 with value: 0.48055555555555557.\n",
      "h:\\Github\\machine-learning-algorithms\\ap-de-maquina-cefetmg-avaliacao-master\\avaliacao.py:126: FutureWarning: suggest_uniform has been deprecated in v3.0.0. This feature will be removed in v6.0.0. See https://github.com/optuna/optuna/releases/tag/v3.0.0. Use suggest_float instead.\n",
      "  min_samples = trial.suggest_uniform('min_samples_split', 0, 0.5)\n",
      "h:\\Github\\machine-learning-algorithms\\ap-de-maquina-cefetmg-avaliacao-master\\avaliacao.py:127: FutureWarning: suggest_uniform has been deprecated in v3.0.0. This feature will be removed in v6.0.0. See https://github.com/optuna/optuna/releases/tag/v3.0.0. Use suggest_float instead.\n",
      "  max_features = trial.suggest_uniform('max_features', 0, 0.5)\n",
      "h:\\Github\\machine-learning-algorithms\\ap-de-maquina-cefetmg-avaliacao-master\\resultado.py:75: UndefinedMetricWarning: Não há elementos previstos para a classe 0 precisão foi definida como zero.\n",
      "  warnings.warn(\"Não há elementos previstos para a classe \"+str(classe)+\" precisão foi definida como zero.\", UndefinedMetricWarning)\n",
      "[I 2023-09-05 17:36:43,600] Trial 10 finished with value: 0.48055555555555557 and parameters: {'min_samples_split': 0.0056894343988741075, 'max_features': 0.04631534712222245, 'num_arvores': 5}. Best is trial 6 with value: 0.48055555555555557.\n",
      "h:\\Github\\machine-learning-algorithms\\ap-de-maquina-cefetmg-avaliacao-master\\avaliacao.py:126: FutureWarning: suggest_uniform has been deprecated in v3.0.0. This feature will be removed in v6.0.0. See https://github.com/optuna/optuna/releases/tag/v3.0.0. Use suggest_float instead.\n",
      "  min_samples = trial.suggest_uniform('min_samples_split', 0, 0.5)\n",
      "h:\\Github\\machine-learning-algorithms\\ap-de-maquina-cefetmg-avaliacao-master\\avaliacao.py:127: FutureWarning: suggest_uniform has been deprecated in v3.0.0. This feature will be removed in v6.0.0. See https://github.com/optuna/optuna/releases/tag/v3.0.0. Use suggest_float instead.\n",
      "  max_features = trial.suggest_uniform('max_features', 0, 0.5)\n",
      "h:\\Github\\machine-learning-algorithms\\ap-de-maquina-cefetmg-avaliacao-master\\resultado.py:75: UndefinedMetricWarning: Não há elementos previstos para a classe 0 precisão foi definida como zero.\n",
      "  warnings.warn(\"Não há elementos previstos para a classe \"+str(classe)+\" precisão foi definida como zero.\", UndefinedMetricWarning)\n",
      "[I 2023-09-05 17:36:43,639] Trial 11 finished with value: 0.48055555555555557 and parameters: {'min_samples_split': 0.011689324655719507, 'max_features': 0.005334280560063187, 'num_arvores': 5}. Best is trial 6 with value: 0.48055555555555557.\n",
      "h:\\Github\\machine-learning-algorithms\\ap-de-maquina-cefetmg-avaliacao-master\\avaliacao.py:126: FutureWarning: suggest_uniform has been deprecated in v3.0.0. This feature will be removed in v6.0.0. See https://github.com/optuna/optuna/releases/tag/v3.0.0. Use suggest_float instead.\n",
      "  min_samples = trial.suggest_uniform('min_samples_split', 0, 0.5)\n",
      "h:\\Github\\machine-learning-algorithms\\ap-de-maquina-cefetmg-avaliacao-master\\avaliacao.py:127: FutureWarning: suggest_uniform has been deprecated in v3.0.0. This feature will be removed in v6.0.0. See https://github.com/optuna/optuna/releases/tag/v3.0.0. Use suggest_float instead.\n",
      "  max_features = trial.suggest_uniform('max_features', 0, 0.5)\n",
      "h:\\Github\\machine-learning-algorithms\\ap-de-maquina-cefetmg-avaliacao-master\\resultado.py:75: UndefinedMetricWarning: Não há elementos previstos para a classe 0 precisão foi definida como zero.\n",
      "  warnings.warn(\"Não há elementos previstos para a classe \"+str(classe)+\" precisão foi definida como zero.\", UndefinedMetricWarning)\n",
      "h:\\Github\\machine-learning-algorithms\\ap-de-maquina-cefetmg-avaliacao-master\\resultado.py:75: UndefinedMetricWarning: Não há elementos previstos para a classe 1 precisão foi definida como zero.\n",
      "  warnings.warn(\"Não há elementos previstos para a classe \"+str(classe)+\" precisão foi definida como zero.\", UndefinedMetricWarning)\n",
      "h:\\Github\\machine-learning-algorithms\\ap-de-maquina-cefetmg-avaliacao-master\\resultado.py:75: UndefinedMetricWarning: Não há elementos previstos para a classe 1 precisão foi definida como zero.\n",
      "  warnings.warn(\"Não há elementos previstos para a classe \"+str(classe)+\" precisão foi definida como zero.\", UndefinedMetricWarning)\n",
      "[I 2023-09-05 17:36:43,679] Trial 12 finished with value: 0.3277777777777778 and parameters: {'min_samples_split': 0.05868974653573428, 'max_features': 0.10592807537980492, 'num_arvores': 4}. Best is trial 6 with value: 0.48055555555555557.\n",
      "h:\\Github\\machine-learning-algorithms\\ap-de-maquina-cefetmg-avaliacao-master\\avaliacao.py:126: FutureWarning: suggest_uniform has been deprecated in v3.0.0. This feature will be removed in v6.0.0. See https://github.com/optuna/optuna/releases/tag/v3.0.0. Use suggest_float instead.\n",
      "  min_samples = trial.suggest_uniform('min_samples_split', 0, 0.5)\n",
      "h:\\Github\\machine-learning-algorithms\\ap-de-maquina-cefetmg-avaliacao-master\\avaliacao.py:127: FutureWarning: suggest_uniform has been deprecated in v3.0.0. This feature will be removed in v6.0.0. See https://github.com/optuna/optuna/releases/tag/v3.0.0. Use suggest_float instead.\n",
      "  max_features = trial.suggest_uniform('max_features', 0, 0.5)\n",
      "h:\\Github\\machine-learning-algorithms\\ap-de-maquina-cefetmg-avaliacao-master\\resultado.py:75: UndefinedMetricWarning: Não há elementos previstos para a classe 0 precisão foi definida como zero.\n",
      "  warnings.warn(\"Não há elementos previstos para a classe \"+str(classe)+\" precisão foi definida como zero.\", UndefinedMetricWarning)\n",
      "[I 2023-09-05 17:36:43,721] Trial 13 finished with value: 0.48055555555555557 and parameters: {'min_samples_split': 0.1531668507074539, 'max_features': 0.10441403515084534, 'num_arvores': 5}. Best is trial 6 with value: 0.48055555555555557.\n",
      "h:\\Github\\machine-learning-algorithms\\ap-de-maquina-cefetmg-avaliacao-master\\avaliacao.py:126: FutureWarning: suggest_uniform has been deprecated in v3.0.0. This feature will be removed in v6.0.0. See https://github.com/optuna/optuna/releases/tag/v3.0.0. Use suggest_float instead.\n",
      "  min_samples = trial.suggest_uniform('min_samples_split', 0, 0.5)\n",
      "h:\\Github\\machine-learning-algorithms\\ap-de-maquina-cefetmg-avaliacao-master\\avaliacao.py:127: FutureWarning: suggest_uniform has been deprecated in v3.0.0. This feature will be removed in v6.0.0. See https://github.com/optuna/optuna/releases/tag/v3.0.0. Use suggest_float instead.\n",
      "  max_features = trial.suggest_uniform('max_features', 0, 0.5)\n",
      "h:\\Github\\machine-learning-algorithms\\ap-de-maquina-cefetmg-avaliacao-master\\resultado.py:75: UndefinedMetricWarning: Não há elementos previstos para a classe 0 precisão foi definida como zero.\n",
      "  warnings.warn(\"Não há elementos previstos para a classe \"+str(classe)+\" precisão foi definida como zero.\", UndefinedMetricWarning)\n",
      "[I 2023-09-05 17:36:43,755] Trial 14 finished with value: 0.48055555555555557 and parameters: {'min_samples_split': 0.0564678484921678, 'max_features': 0.2847770597039947, 'num_arvores': 3}. Best is trial 6 with value: 0.48055555555555557.\n",
      "h:\\Github\\machine-learning-algorithms\\ap-de-maquina-cefetmg-avaliacao-master\\avaliacao.py:126: FutureWarning: suggest_uniform has been deprecated in v3.0.0. This feature will be removed in v6.0.0. See https://github.com/optuna/optuna/releases/tag/v3.0.0. Use suggest_float instead.\n",
      "  min_samples = trial.suggest_uniform('min_samples_split', 0, 0.5)\n",
      "h:\\Github\\machine-learning-algorithms\\ap-de-maquina-cefetmg-avaliacao-master\\avaliacao.py:127: FutureWarning: suggest_uniform has been deprecated in v3.0.0. This feature will be removed in v6.0.0. See https://github.com/optuna/optuna/releases/tag/v3.0.0. Use suggest_float instead.\n",
      "  max_features = trial.suggest_uniform('max_features', 0, 0.5)\n",
      "h:\\Github\\machine-learning-algorithms\\ap-de-maquina-cefetmg-avaliacao-master\\resultado.py:75: UndefinedMetricWarning: Não há elementos previstos para a classe 0 precisão foi definida como zero.\n",
      "  warnings.warn(\"Não há elementos previstos para a classe \"+str(classe)+\" precisão foi definida como zero.\", UndefinedMetricWarning)\n",
      "[I 2023-09-05 17:36:43,797] Trial 15 finished with value: 0.48055555555555557 and parameters: {'min_samples_split': 0.0015919020999174832, 'max_features': 0.007459525133282852, 'num_arvores': 5}. Best is trial 6 with value: 0.48055555555555557.\n",
      "h:\\Github\\machine-learning-algorithms\\ap-de-maquina-cefetmg-avaliacao-master\\avaliacao.py:126: FutureWarning: suggest_uniform has been deprecated in v3.0.0. This feature will be removed in v6.0.0. See https://github.com/optuna/optuna/releases/tag/v3.0.0. Use suggest_float instead.\n",
      "  min_samples = trial.suggest_uniform('min_samples_split', 0, 0.5)\n",
      "h:\\Github\\machine-learning-algorithms\\ap-de-maquina-cefetmg-avaliacao-master\\avaliacao.py:127: FutureWarning: suggest_uniform has been deprecated in v3.0.0. This feature will be removed in v6.0.0. See https://github.com/optuna/optuna/releases/tag/v3.0.0. Use suggest_float instead.\n",
      "  max_features = trial.suggest_uniform('max_features', 0, 0.5)\n",
      "h:\\Github\\machine-learning-algorithms\\ap-de-maquina-cefetmg-avaliacao-master\\resultado.py:75: UndefinedMetricWarning: Não há elementos previstos para a classe 0 precisão foi definida como zero.\n",
      "  warnings.warn(\"Não há elementos previstos para a classe \"+str(classe)+\" precisão foi definida como zero.\", UndefinedMetricWarning)\n",
      "h:\\Github\\machine-learning-algorithms\\ap-de-maquina-cefetmg-avaliacao-master\\resultado.py:75: UndefinedMetricWarning: Não há elementos previstos para a classe 1 precisão foi definida como zero.\n",
      "  warnings.warn(\"Não há elementos previstos para a classe \"+str(classe)+\" precisão foi definida como zero.\", UndefinedMetricWarning)\n",
      "h:\\Github\\machine-learning-algorithms\\ap-de-maquina-cefetmg-avaliacao-master\\resultado.py:75: UndefinedMetricWarning: Não há elementos previstos para a classe 1 precisão foi definida como zero.\n",
      "  warnings.warn(\"Não há elementos previstos para a classe \"+str(classe)+\" precisão foi definida como zero.\", UndefinedMetricWarning)\n",
      "[I 2023-09-05 17:36:43,835] Trial 16 finished with value: 0.3277777777777778 and parameters: {'min_samples_split': 0.16220694648586176, 'max_features': 0.11950653183546249, 'num_arvores': 4}. Best is trial 6 with value: 0.48055555555555557.\n",
      "h:\\Github\\machine-learning-algorithms\\ap-de-maquina-cefetmg-avaliacao-master\\avaliacao.py:126: FutureWarning: suggest_uniform has been deprecated in v3.0.0. This feature will be removed in v6.0.0. See https://github.com/optuna/optuna/releases/tag/v3.0.0. Use suggest_float instead.\n",
      "  min_samples = trial.suggest_uniform('min_samples_split', 0, 0.5)\n",
      "h:\\Github\\machine-learning-algorithms\\ap-de-maquina-cefetmg-avaliacao-master\\avaliacao.py:127: FutureWarning: suggest_uniform has been deprecated in v3.0.0. This feature will be removed in v6.0.0. See https://github.com/optuna/optuna/releases/tag/v3.0.0. Use suggest_float instead.\n",
      "  max_features = trial.suggest_uniform('max_features', 0, 0.5)\n",
      "h:\\Github\\machine-learning-algorithms\\ap-de-maquina-cefetmg-avaliacao-master\\resultado.py:75: UndefinedMetricWarning: Não há elementos previstos para a classe 0 precisão foi definida como zero.\n",
      "  warnings.warn(\"Não há elementos previstos para a classe \"+str(classe)+\" precisão foi definida como zero.\", UndefinedMetricWarning)\n",
      "[I 2023-09-05 17:36:43,879] Trial 17 finished with value: 0.48055555555555557 and parameters: {'min_samples_split': 0.08918096052541322, 'max_features': 0.0510068121692684, 'num_arvores': 5}. Best is trial 6 with value: 0.48055555555555557.\n",
      "h:\\Github\\machine-learning-algorithms\\ap-de-maquina-cefetmg-avaliacao-master\\avaliacao.py:126: FutureWarning: suggest_uniform has been deprecated in v3.0.0. This feature will be removed in v6.0.0. See https://github.com/optuna/optuna/releases/tag/v3.0.0. Use suggest_float instead.\n",
      "  min_samples = trial.suggest_uniform('min_samples_split', 0, 0.5)\n",
      "h:\\Github\\machine-learning-algorithms\\ap-de-maquina-cefetmg-avaliacao-master\\avaliacao.py:127: FutureWarning: suggest_uniform has been deprecated in v3.0.0. This feature will be removed in v6.0.0. See https://github.com/optuna/optuna/releases/tag/v3.0.0. Use suggest_float instead.\n",
      "  max_features = trial.suggest_uniform('max_features', 0, 0.5)\n",
      "h:\\Github\\machine-learning-algorithms\\ap-de-maquina-cefetmg-avaliacao-master\\resultado.py:75: UndefinedMetricWarning: Não há elementos previstos para a classe 0 precisão foi definida como zero.\n",
      "  warnings.warn(\"Não há elementos previstos para a classe \"+str(classe)+\" precisão foi definida como zero.\", UndefinedMetricWarning)\n",
      "[I 2023-09-05 17:36:43,912] Trial 18 finished with value: 0.48055555555555557 and parameters: {'min_samples_split': 0.05707691370147575, 'max_features': 0.2718056785244352, 'num_arvores': 3}. Best is trial 6 with value: 0.48055555555555557.\n",
      "h:\\Github\\machine-learning-algorithms\\ap-de-maquina-cefetmg-avaliacao-master\\avaliacao.py:126: FutureWarning: suggest_uniform has been deprecated in v3.0.0. This feature will be removed in v6.0.0. See https://github.com/optuna/optuna/releases/tag/v3.0.0. Use suggest_float instead.\n",
      "  min_samples = trial.suggest_uniform('min_samples_split', 0, 0.5)\n",
      "h:\\Github\\machine-learning-algorithms\\ap-de-maquina-cefetmg-avaliacao-master\\avaliacao.py:127: FutureWarning: suggest_uniform has been deprecated in v3.0.0. This feature will be removed in v6.0.0. See https://github.com/optuna/optuna/releases/tag/v3.0.0. Use suggest_float instead.\n",
      "  max_features = trial.suggest_uniform('max_features', 0, 0.5)\n",
      "h:\\Github\\machine-learning-algorithms\\ap-de-maquina-cefetmg-avaliacao-master\\resultado.py:75: UndefinedMetricWarning: Não há elementos previstos para a classe 0 precisão foi definida como zero.\n",
      "  warnings.warn(\"Não há elementos previstos para a classe \"+str(classe)+\" precisão foi definida como zero.\", UndefinedMetricWarning)\n",
      "h:\\Github\\machine-learning-algorithms\\ap-de-maquina-cefetmg-avaliacao-master\\resultado.py:75: UndefinedMetricWarning: Não há elementos previstos para a classe 1 precisão foi definida como zero.\n",
      "  warnings.warn(\"Não há elementos previstos para a classe \"+str(classe)+\" precisão foi definida como zero.\", UndefinedMetricWarning)\n",
      "h:\\Github\\machine-learning-algorithms\\ap-de-maquina-cefetmg-avaliacao-master\\resultado.py:75: UndefinedMetricWarning: Não há elementos previstos para a classe 1 precisão foi definida como zero.\n",
      "  warnings.warn(\"Não há elementos previstos para a classe \"+str(classe)+\" precisão foi definida como zero.\", UndefinedMetricWarning)\n",
      "[I 2023-09-05 17:36:43,957] Trial 19 finished with value: 0.3277777777777778 and parameters: {'min_samples_split': 0.23970055916784455, 'max_features': 0.13630505685076816, 'num_arvores': 4}. Best is trial 6 with value: 0.48055555555555557.\n",
      "h:\\Github\\machine-learning-algorithms\\ap-de-maquina-cefetmg-avaliacao-master\\avaliacao.py:126: FutureWarning: suggest_uniform has been deprecated in v3.0.0. This feature will be removed in v6.0.0. See https://github.com/optuna/optuna/releases/tag/v3.0.0. Use suggest_float instead.\n",
      "  min_samples = trial.suggest_uniform('min_samples_split', 0, 0.5)\n",
      "h:\\Github\\machine-learning-algorithms\\ap-de-maquina-cefetmg-avaliacao-master\\avaliacao.py:127: FutureWarning: suggest_uniform has been deprecated in v3.0.0. This feature will be removed in v6.0.0. See https://github.com/optuna/optuna/releases/tag/v3.0.0. Use suggest_float instead.\n",
      "  max_features = trial.suggest_uniform('max_features', 0, 0.5)\n",
      "h:\\Github\\machine-learning-algorithms\\ap-de-maquina-cefetmg-avaliacao-master\\resultado.py:75: UndefinedMetricWarning: Não há elementos previstos para a classe 1 precisão foi definida como zero.\n",
      "  warnings.warn(\"Não há elementos previstos para a classe \"+str(classe)+\" precisão foi definida como zero.\", UndefinedMetricWarning)\n",
      "h:\\Github\\machine-learning-algorithms\\ap-de-maquina-cefetmg-avaliacao-master\\resultado.py:75: UndefinedMetricWarning: Não há elementos previstos para a classe 1 precisão foi definida como zero.\n",
      "  warnings.warn(\"Não há elementos previstos para a classe \"+str(classe)+\" precisão foi definida como zero.\", UndefinedMetricWarning)\n",
      "h:\\Github\\machine-learning-algorithms\\ap-de-maquina-cefetmg-avaliacao-master\\resultado.py:75: UndefinedMetricWarning: Não há elementos previstos para a classe 1 precisão foi definida como zero.\n",
      "  warnings.warn(\"Não há elementos previstos para a classe \"+str(classe)+\" precisão foi definida como zero.\", UndefinedMetricWarning)\n",
      "h:\\Github\\machine-learning-algorithms\\ap-de-maquina-cefetmg-avaliacao-master\\resultado.py:75: UndefinedMetricWarning: Não há elementos previstos para a classe 1 precisão foi definida como zero.\n",
      "  warnings.warn(\"Não há elementos previstos para a classe \"+str(classe)+\" precisão foi definida como zero.\", UndefinedMetricWarning)\n",
      "[I 2023-09-05 17:36:43,987] Trial 20 finished with value: 0.4055555555555556 and parameters: {'min_samples_split': 0.11587722326914579, 'max_features': 0.08099084583073048, 'num_arvores': 2}. Best is trial 6 with value: 0.48055555555555557.\n",
      "h:\\Github\\machine-learning-algorithms\\ap-de-maquina-cefetmg-avaliacao-master\\avaliacao.py:126: FutureWarning: suggest_uniform has been deprecated in v3.0.0. This feature will be removed in v6.0.0. See https://github.com/optuna/optuna/releases/tag/v3.0.0. Use suggest_float instead.\n",
      "  min_samples = trial.suggest_uniform('min_samples_split', 0, 0.5)\n",
      "h:\\Github\\machine-learning-algorithms\\ap-de-maquina-cefetmg-avaliacao-master\\avaliacao.py:127: FutureWarning: suggest_uniform has been deprecated in v3.0.0. This feature will be removed in v6.0.0. See https://github.com/optuna/optuna/releases/tag/v3.0.0. Use suggest_float instead.\n",
      "  max_features = trial.suggest_uniform('max_features', 0, 0.5)\n",
      "h:\\Github\\machine-learning-algorithms\\ap-de-maquina-cefetmg-avaliacao-master\\resultado.py:75: UndefinedMetricWarning: Não há elementos previstos para a classe 0 precisão foi definida como zero.\n",
      "  warnings.warn(\"Não há elementos previstos para a classe \"+str(classe)+\" precisão foi definida como zero.\", UndefinedMetricWarning)\n",
      "[I 2023-09-05 17:36:44,030] Trial 21 finished with value: 0.48055555555555557 and parameters: {'min_samples_split': 0.00363365113927731, 'max_features': 0.04549681929732294, 'num_arvores': 5}. Best is trial 6 with value: 0.48055555555555557.\n",
      "h:\\Github\\machine-learning-algorithms\\ap-de-maquina-cefetmg-avaliacao-master\\avaliacao.py:126: FutureWarning: suggest_uniform has been deprecated in v3.0.0. This feature will be removed in v6.0.0. See https://github.com/optuna/optuna/releases/tag/v3.0.0. Use suggest_float instead.\n",
      "  min_samples = trial.suggest_uniform('min_samples_split', 0, 0.5)\n",
      "h:\\Github\\machine-learning-algorithms\\ap-de-maquina-cefetmg-avaliacao-master\\avaliacao.py:127: FutureWarning: suggest_uniform has been deprecated in v3.0.0. This feature will be removed in v6.0.0. See https://github.com/optuna/optuna/releases/tag/v3.0.0. Use suggest_float instead.\n",
      "  max_features = trial.suggest_uniform('max_features', 0, 0.5)\n",
      "h:\\Github\\machine-learning-algorithms\\ap-de-maquina-cefetmg-avaliacao-master\\resultado.py:75: UndefinedMetricWarning: Não há elementos previstos para a classe 0 precisão foi definida como zero.\n",
      "  warnings.warn(\"Não há elementos previstos para a classe \"+str(classe)+\" precisão foi definida como zero.\", UndefinedMetricWarning)\n",
      "[I 2023-09-05 17:36:44,069] Trial 22 finished with value: 0.48055555555555557 and parameters: {'min_samples_split': 0.03728322864510836, 'max_features': 0.04431890478170068, 'num_arvores': 5}. Best is trial 6 with value: 0.48055555555555557.\n",
      "h:\\Github\\machine-learning-algorithms\\ap-de-maquina-cefetmg-avaliacao-master\\avaliacao.py:126: FutureWarning: suggest_uniform has been deprecated in v3.0.0. This feature will be removed in v6.0.0. See https://github.com/optuna/optuna/releases/tag/v3.0.0. Use suggest_float instead.\n",
      "  min_samples = trial.suggest_uniform('min_samples_split', 0, 0.5)\n",
      "h:\\Github\\machine-learning-algorithms\\ap-de-maquina-cefetmg-avaliacao-master\\avaliacao.py:127: FutureWarning: suggest_uniform has been deprecated in v3.0.0. This feature will be removed in v6.0.0. See https://github.com/optuna/optuna/releases/tag/v3.0.0. Use suggest_float instead.\n",
      "  max_features = trial.suggest_uniform('max_features', 0, 0.5)\n",
      "h:\\Github\\machine-learning-algorithms\\ap-de-maquina-cefetmg-avaliacao-master\\resultado.py:75: UndefinedMetricWarning: Não há elementos previstos para a classe 0 precisão foi definida como zero.\n",
      "  warnings.warn(\"Não há elementos previstos para a classe \"+str(classe)+\" precisão foi definida como zero.\", UndefinedMetricWarning)\n",
      "[I 2023-09-05 17:36:44,112] Trial 23 finished with value: 0.48055555555555557 and parameters: {'min_samples_split': 0.040182350619056506, 'max_features': 0.10135677600337482, 'num_arvores': 5}. Best is trial 6 with value: 0.48055555555555557.\n",
      "h:\\Github\\machine-learning-algorithms\\ap-de-maquina-cefetmg-avaliacao-master\\avaliacao.py:126: FutureWarning: suggest_uniform has been deprecated in v3.0.0. This feature will be removed in v6.0.0. See https://github.com/optuna/optuna/releases/tag/v3.0.0. Use suggest_float instead.\n",
      "  min_samples = trial.suggest_uniform('min_samples_split', 0, 0.5)\n",
      "h:\\Github\\machine-learning-algorithms\\ap-de-maquina-cefetmg-avaliacao-master\\avaliacao.py:127: FutureWarning: suggest_uniform has been deprecated in v3.0.0. This feature will be removed in v6.0.0. See https://github.com/optuna/optuna/releases/tag/v3.0.0. Use suggest_float instead.\n",
      "  max_features = trial.suggest_uniform('max_features', 0, 0.5)\n",
      "h:\\Github\\machine-learning-algorithms\\ap-de-maquina-cefetmg-avaliacao-master\\resultado.py:75: UndefinedMetricWarning: Não há elementos previstos para a classe 0 precisão foi definida como zero.\n",
      "  warnings.warn(\"Não há elementos previstos para a classe \"+str(classe)+\" precisão foi definida como zero.\", UndefinedMetricWarning)\n",
      "h:\\Github\\machine-learning-algorithms\\ap-de-maquina-cefetmg-avaliacao-master\\resultado.py:75: UndefinedMetricWarning: Não há elementos previstos para a classe 1 precisão foi definida como zero.\n",
      "  warnings.warn(\"Não há elementos previstos para a classe \"+str(classe)+\" precisão foi definida como zero.\", UndefinedMetricWarning)\n",
      "h:\\Github\\machine-learning-algorithms\\ap-de-maquina-cefetmg-avaliacao-master\\resultado.py:75: UndefinedMetricWarning: Não há elementos previstos para a classe 1 precisão foi definida como zero.\n",
      "  warnings.warn(\"Não há elementos previstos para a classe \"+str(classe)+\" precisão foi definida como zero.\", UndefinedMetricWarning)\n",
      "[I 2023-09-05 17:36:44,147] Trial 24 finished with value: 0.3277777777777778 and parameters: {'min_samples_split': 0.005209143702533044, 'max_features': 0.1553303693017672, 'num_arvores': 4}. Best is trial 6 with value: 0.48055555555555557.\n",
      "h:\\Github\\machine-learning-algorithms\\ap-de-maquina-cefetmg-avaliacao-master\\avaliacao.py:126: FutureWarning: suggest_uniform has been deprecated in v3.0.0. This feature will be removed in v6.0.0. See https://github.com/optuna/optuna/releases/tag/v3.0.0. Use suggest_float instead.\n",
      "  min_samples = trial.suggest_uniform('min_samples_split', 0, 0.5)\n",
      "h:\\Github\\machine-learning-algorithms\\ap-de-maquina-cefetmg-avaliacao-master\\avaliacao.py:127: FutureWarning: suggest_uniform has been deprecated in v3.0.0. This feature will be removed in v6.0.0. See https://github.com/optuna/optuna/releases/tag/v3.0.0. Use suggest_float instead.\n",
      "  max_features = trial.suggest_uniform('max_features', 0, 0.5)\n",
      "h:\\Github\\machine-learning-algorithms\\ap-de-maquina-cefetmg-avaliacao-master\\resultado.py:75: UndefinedMetricWarning: Não há elementos previstos para a classe 0 precisão foi definida como zero.\n",
      "  warnings.warn(\"Não há elementos previstos para a classe \"+str(classe)+\" precisão foi definida como zero.\", UndefinedMetricWarning)\n",
      "[I 2023-09-05 17:36:44,188] Trial 25 finished with value: 0.48055555555555557 and parameters: {'min_samples_split': 0.0798197525981707, 'max_features': 0.013020367227951649, 'num_arvores': 5}. Best is trial 6 with value: 0.48055555555555557.\n",
      "h:\\Github\\machine-learning-algorithms\\ap-de-maquina-cefetmg-avaliacao-master\\avaliacao.py:126: FutureWarning: suggest_uniform has been deprecated in v3.0.0. This feature will be removed in v6.0.0. See https://github.com/optuna/optuna/releases/tag/v3.0.0. Use suggest_float instead.\n",
      "  min_samples = trial.suggest_uniform('min_samples_split', 0, 0.5)\n",
      "h:\\Github\\machine-learning-algorithms\\ap-de-maquina-cefetmg-avaliacao-master\\avaliacao.py:127: FutureWarning: suggest_uniform has been deprecated in v3.0.0. This feature will be removed in v6.0.0. See https://github.com/optuna/optuna/releases/tag/v3.0.0. Use suggest_float instead.\n",
      "  max_features = trial.suggest_uniform('max_features', 0, 0.5)\n",
      "h:\\Github\\machine-learning-algorithms\\ap-de-maquina-cefetmg-avaliacao-master\\resultado.py:75: UndefinedMetricWarning: Não há elementos previstos para a classe 0 precisão foi definida como zero.\n",
      "  warnings.warn(\"Não há elementos previstos para a classe \"+str(classe)+\" precisão foi definida como zero.\", UndefinedMetricWarning)\n",
      "h:\\Github\\machine-learning-algorithms\\ap-de-maquina-cefetmg-avaliacao-master\\resultado.py:75: UndefinedMetricWarning: Não há elementos previstos para a classe 1 precisão foi definida como zero.\n",
      "  warnings.warn(\"Não há elementos previstos para a classe \"+str(classe)+\" precisão foi definida como zero.\", UndefinedMetricWarning)\n",
      "h:\\Github\\machine-learning-algorithms\\ap-de-maquina-cefetmg-avaliacao-master\\resultado.py:75: UndefinedMetricWarning: Não há elementos previstos para a classe 1 precisão foi definida como zero.\n",
      "  warnings.warn(\"Não há elementos previstos para a classe \"+str(classe)+\" precisão foi definida como zero.\", UndefinedMetricWarning)\n",
      "[I 2023-09-05 17:36:44,230] Trial 26 finished with value: 0.3277777777777778 and parameters: {'min_samples_split': 0.12343554434966321, 'max_features': 0.06606769930169801, 'num_arvores': 4}. Best is trial 6 with value: 0.48055555555555557.\n",
      "h:\\Github\\machine-learning-algorithms\\ap-de-maquina-cefetmg-avaliacao-master\\avaliacao.py:126: FutureWarning: suggest_uniform has been deprecated in v3.0.0. This feature will be removed in v6.0.0. See https://github.com/optuna/optuna/releases/tag/v3.0.0. Use suggest_float instead.\n",
      "  min_samples = trial.suggest_uniform('min_samples_split', 0, 0.5)\n",
      "h:\\Github\\machine-learning-algorithms\\ap-de-maquina-cefetmg-avaliacao-master\\avaliacao.py:127: FutureWarning: suggest_uniform has been deprecated in v3.0.0. This feature will be removed in v6.0.0. See https://github.com/optuna/optuna/releases/tag/v3.0.0. Use suggest_float instead.\n",
      "  max_features = trial.suggest_uniform('max_features', 0, 0.5)\n",
      "h:\\Github\\machine-learning-algorithms\\ap-de-maquina-cefetmg-avaliacao-master\\resultado.py:75: UndefinedMetricWarning: Não há elementos previstos para a classe 0 precisão foi definida como zero.\n",
      "  warnings.warn(\"Não há elementos previstos para a classe \"+str(classe)+\" precisão foi definida como zero.\", UndefinedMetricWarning)\n",
      "[I 2023-09-05 17:36:44,270] Trial 27 finished with value: 0.48055555555555557 and parameters: {'min_samples_split': 0.03808116849492132, 'max_features': 0.04005097949699879, 'num_arvores': 5}. Best is trial 6 with value: 0.48055555555555557.\n",
      "h:\\Github\\machine-learning-algorithms\\ap-de-maquina-cefetmg-avaliacao-master\\avaliacao.py:126: FutureWarning: suggest_uniform has been deprecated in v3.0.0. This feature will be removed in v6.0.0. See https://github.com/optuna/optuna/releases/tag/v3.0.0. Use suggest_float instead.\n",
      "  min_samples = trial.suggest_uniform('min_samples_split', 0, 0.5)\n",
      "h:\\Github\\machine-learning-algorithms\\ap-de-maquina-cefetmg-avaliacao-master\\avaliacao.py:127: FutureWarning: suggest_uniform has been deprecated in v3.0.0. This feature will be removed in v6.0.0. See https://github.com/optuna/optuna/releases/tag/v3.0.0. Use suggest_float instead.\n",
      "  max_features = trial.suggest_uniform('max_features', 0, 0.5)\n",
      "h:\\Github\\machine-learning-algorithms\\ap-de-maquina-cefetmg-avaliacao-master\\resultado.py:75: UndefinedMetricWarning: Não há elementos previstos para a classe 0 precisão foi definida como zero.\n",
      "  warnings.warn(\"Não há elementos previstos para a classe \"+str(classe)+\" precisão foi definida como zero.\", UndefinedMetricWarning)\n",
      "[I 2023-09-05 17:36:44,304] Trial 28 finished with value: 0.48055555555555557 and parameters: {'min_samples_split': 0.07005044610773747, 'max_features': 0.08635811789080496, 'num_arvores': 3}. Best is trial 6 with value: 0.48055555555555557.\n",
      "h:\\Github\\machine-learning-algorithms\\ap-de-maquina-cefetmg-avaliacao-master\\avaliacao.py:126: FutureWarning: suggest_uniform has been deprecated in v3.0.0. This feature will be removed in v6.0.0. See https://github.com/optuna/optuna/releases/tag/v3.0.0. Use suggest_float instead.\n",
      "  min_samples = trial.suggest_uniform('min_samples_split', 0, 0.5)\n",
      "h:\\Github\\machine-learning-algorithms\\ap-de-maquina-cefetmg-avaliacao-master\\avaliacao.py:127: FutureWarning: suggest_uniform has been deprecated in v3.0.0. This feature will be removed in v6.0.0. See https://github.com/optuna/optuna/releases/tag/v3.0.0. Use suggest_float instead.\n",
      "  max_features = trial.suggest_uniform('max_features', 0, 0.5)\n",
      "h:\\Github\\machine-learning-algorithms\\ap-de-maquina-cefetmg-avaliacao-master\\resultado.py:75: UndefinedMetricWarning: Não há elementos previstos para a classe 0 precisão foi definida como zero.\n",
      "  warnings.warn(\"Não há elementos previstos para a classe \"+str(classe)+\" precisão foi definida como zero.\", UndefinedMetricWarning)\n",
      "[I 2023-09-05 17:36:44,346] Trial 29 finished with value: 0.48055555555555557 and parameters: {'min_samples_split': 0.19600208028986377, 'max_features': 0.13594839652305535, 'num_arvores': 5}. Best is trial 6 with value: 0.48055555555555557.\n",
      ".\n",
      "----------------------------------------------------------------------\n",
      "Ran 1 test in 1.021s\n",
      "\n",
      "OK\n"
     ]
    }
   ],
   "source": [
    "!python -m tests TestObjetivoOtimizacaoRF.test_otimizacao"
   ]
  },
  {
   "cell_type": "markdown",
   "metadata": {},
   "source": [
    "- O warning é que, em alguns casos, em alguma classe, não há previsão para a mesma e, assim, daria divisão por zero. Como é um exemplo pequeno, isso é natural ocorrer. Se fosse um exemplo real, seria interessante investigar para evitar que uma classe não tenha previsão. Por exemplo: será que existe exemplos o suficiente para esta classe? "
   ]
  },
  {
   "cell_type": "markdown",
   "metadata": {},
   "source": [
    "**Atividade 5 - método `calcula_resultados` da classe Experimento**: Esse método deve calcular os resultados para cada fold (navegando no atributo `folds`) e, para isso, se houver fold de validação e tiver uma classe de otimização definida, deve obter o melhor método nos folds de validação e aplicá-lo no teste para obter o resultado. \n",
    "\n"
   ]
  },
  {
   "cell_type": "code",
   "execution_count": 1,
   "metadata": {},
   "outputs": [
    {
     "name": "stdout",
     "output_type": "stream",
     "text": [
      "Fold: 0 Macro F1: 0.16666666666666666\n",
      "Fold: 1 Macro F1: 0.4444444444444444\n",
      "Fold: 2 Macro F1: 0.48888888888888893\n",
      "Fold: 3 Macro F1: 0.6190476190476191\n",
      "Fold: 4 Macro F1: 0.37499999999999994\n"
     ]
    },
    {
     "name": "stderr",
     "output_type": "stream",
     "text": [
      "[I 2023-09-05 19:21:39,993] A new study created in memory with name: no-name-540de39f-997f-4b24-9d9b-a462b61ca5f9\n",
      "[I 2023-09-05 19:21:40,004] Trial 0 finished with value: 0.6096560846560847 and parameters: {'min_samples_split': 0.208511002351287}. Best is trial 0 with value: 0.6096560846560847.\n",
      "[I 2023-09-05 19:21:40,016] Trial 1 finished with value: 0.5826719576719577 and parameters: {'min_samples_split': 0.36016224672107905}. Best is trial 0 with value: 0.6096560846560847.\n",
      "[I 2023-09-05 19:21:40,025] Trial 2 finished with value: 0.6294973544973546 and parameters: {'min_samples_split': 5.718740867244332e-05}. Best is trial 2 with value: 0.6294973544973546.\n",
      "[I 2023-09-05 19:21:40,037] Trial 3 finished with value: 0.6294973544973546 and parameters: {'min_samples_split': 0.00546987099648231}. Best is trial 2 with value: 0.6294973544973546.\n",
      "[I 2023-09-05 19:21:40,051] Trial 4 finished with value: 0.6294973544973546 and parameters: {'min_samples_split': 0.041847063324110916}. Best is trial 2 with value: 0.6294973544973546.\n",
      "[I 2023-09-05 19:21:40,064] Trial 5 finished with value: 0.4656084656084656 and parameters: {'min_samples_split': 0.4835976409771159}. Best is trial 2 with value: 0.6294973544973546.\n",
      "[I 2023-09-05 19:21:40,077] Trial 6 finished with value: 0.6096560846560847 and parameters: {'min_samples_split': 0.16892583175198858}. Best is trial 2 with value: 0.6294973544973546.\n",
      "[I 2023-09-05 19:21:40,089] Trial 7 finished with value: 0.6294973544973546 and parameters: {'min_samples_split': 0.10207284892725649}. Best is trial 2 with value: 0.6294973544973546.\n",
      "[I 2023-09-05 19:21:40,102] Trial 8 finished with value: 0.6294973544973546 and parameters: {'min_samples_split': 0.12509529152870072}. Best is trial 2 with value: 0.6294973544973546.\n",
      "[I 2023-09-05 19:21:40,114] Trial 9 finished with value: 0.6096560846560847 and parameters: {'min_samples_split': 0.2685677113224782}. Best is trial 2 with value: 0.6294973544973546.\n",
      "[I 2023-09-05 19:21:40,116] A new study created in memory with name: no-name-b63bd111-dbb5-41f4-b6f7-0b8db453b8c4\n",
      "[I 2023-09-05 19:21:40,126] Trial 0 finished with value: 0.34378306878306875 and parameters: {'min_samples_split': 0.15116628631591988}. Best is trial 0 with value: 0.34378306878306875.\n",
      "[I 2023-09-05 19:21:40,137] Trial 1 finished with value: 0.30674603174603177 and parameters: {'min_samples_split': 0.07337794540855652}. Best is trial 0 with value: 0.34378306878306875.\n",
      "[I 2023-09-05 19:21:40,147] Trial 2 finished with value: 0.30674603174603177 and parameters: {'min_samples_split': 0.0461692973843989}. Best is trial 0 with value: 0.34378306878306875.\n",
      "[I 2023-09-05 19:21:40,158] Trial 3 finished with value: 0.3255291005291005 and parameters: {'min_samples_split': 0.44762527068545865}. Best is trial 0 with value: 0.34378306878306875.\n",
      "[I 2023-09-05 19:21:40,171] Trial 4 finished with value: 0.3310846560846561 and parameters: {'min_samples_split': 0.23333287287421356}. Best is trial 0 with value: 0.34378306878306875.\n",
      "[I 2023-09-05 19:21:40,185] Trial 5 finished with value: 0.34378306878306875 and parameters: {'min_samples_split': 0.1898815670366003}. Best is trial 0 with value: 0.34378306878306875.\n",
      "[I 2023-09-05 19:21:40,197] Trial 6 finished with value: 0.29404761904761906 and parameters: {'min_samples_split': 0.36774869183691217}. Best is trial 0 with value: 0.34378306878306875.\n",
      "[I 2023-09-05 19:21:40,210] Trial 7 finished with value: 0.34378306878306875 and parameters: {'min_samples_split': 0.16850636100849}. Best is trial 0 with value: 0.34378306878306875.\n",
      "[I 2023-09-05 19:21:40,222] Trial 8 finished with value: 0.29404761904761906 and parameters: {'min_samples_split': 0.32374176436070634}. Best is trial 0 with value: 0.34378306878306875.\n",
      "[I 2023-09-05 19:21:40,235] Trial 9 finished with value: 0.30674603174603177 and parameters: {'min_samples_split': 0.009711779065780662}. Best is trial 0 with value: 0.34378306878306875.\n",
      "[I 2023-09-05 19:21:40,237] A new study created in memory with name: no-name-dbb0c88d-9fcb-4a49-bee7-30b5281ff9c7\n",
      "[I 2023-09-05 19:21:40,248] Trial 0 finished with value: 0.3968253968253968 and parameters: {'min_samples_split': 0.09313010568883545}. Best is trial 0 with value: 0.3968253968253968.\n",
      "[I 2023-09-05 19:21:40,258] Trial 1 finished with value: 0.40873015873015867 and parameters: {'min_samples_split': 0.17278036352152387}. Best is trial 1 with value: 0.40873015873015867.\n",
      "[I 2023-09-05 19:21:40,268] Trial 2 finished with value: 0.40873015873015867 and parameters: {'min_samples_split': 0.19838373711533497}. Best is trial 1 with value: 0.40873015873015867.\n",
      "[I 2023-09-05 19:21:40,280] Trial 3 finished with value: 0.3357142857142857 and parameters: {'min_samples_split': 0.43817435174016434}. Best is trial 1 with value: 0.40873015873015867.\n",
      "[I 2023-09-05 19:21:40,291] Trial 4 finished with value: 0.3968253968253968 and parameters: {'min_samples_split': 0.0051907614833456295}. Best is trial 1 with value: 0.40873015873015867.\n",
      "[I 2023-09-05 19:21:40,305] Trial 5 finished with value: 0.4005291005291005 and parameters: {'min_samples_split': 0.3023261821452223}. Best is trial 1 with value: 0.40873015873015867.\n",
      "[I 2023-09-05 19:21:40,318] Trial 6 finished with value: 0.38015873015873014 and parameters: {'min_samples_split': 0.22227591889332216}. Best is trial 1 with value: 0.40873015873015867.\n",
      "[I 2023-09-05 19:21:40,332] Trial 7 finished with value: 0.3357142857142857 and parameters: {'min_samples_split': 0.49731292214726397}. Best is trial 1 with value: 0.40873015873015867.\n",
      "[I 2023-09-05 19:21:40,345] Trial 8 finished with value: 0.4005291005291005 and parameters: {'min_samples_split': 0.3267742759816392}. Best is trial 1 with value: 0.40873015873015867.\n",
      "[I 2023-09-05 19:21:40,357] Trial 9 finished with value: 0.3968253968253968 and parameters: {'min_samples_split': 0.13722430116190215}. Best is trial 1 with value: 0.40873015873015867.\n",
      "[I 2023-09-05 19:21:40,359] A new study created in memory with name: no-name-3d706ef8-22bd-4363-8471-bca41b4644b0\n",
      "[I 2023-09-05 19:21:40,373] Trial 0 finished with value: 0.2537037037037037 and parameters: {'min_samples_split': 0.2694083670016785}. Best is trial 0 with value: 0.2537037037037037.\n",
      "[I 2023-09-05 19:21:40,383] Trial 1 finished with value: 0.2814814814814815 and parameters: {'min_samples_split': 0.2095972572016474}. Best is trial 1 with value: 0.2814814814814815.\n",
      "[I 2023-09-05 19:21:40,393] Trial 2 finished with value: 0.2222222222222222 and parameters: {'min_samples_split': 0.34260975019837975}. Best is trial 1 with value: 0.2814814814814815.\n",
      "[I 2023-09-05 19:21:40,406] Trial 3 finished with value: 0.3214285714285714 and parameters: {'min_samples_split': 0.0305035875143973}. Best is trial 3 with value: 0.3214285714285714.\n",
      "[I 2023-09-05 19:21:40,418] Trial 4 finished with value: 0.3214285714285714 and parameters: {'min_samples_split': 0.003972391125791119}. Best is trial 3 with value: 0.3214285714285714.\n",
      "[I 2023-09-05 19:21:40,431] Trial 5 finished with value: 0.3214285714285714 and parameters: {'min_samples_split': 0.021433427882040952}. Best is trial 3 with value: 0.3214285714285714.\n",
      "[I 2023-09-05 19:21:40,444] Trial 6 finished with value: 0.2208994708994709 and parameters: {'min_samples_split': 0.4465425033112137}. Best is trial 3 with value: 0.3214285714285714.\n",
      "[I 2023-09-05 19:21:40,456] Trial 7 finished with value: 0.3214285714285714 and parameters: {'min_samples_split': 0.13476560370679097}. Best is trial 3 with value: 0.3214285714285714.\n",
      "[I 2023-09-05 19:21:40,469] Trial 8 finished with value: 0.3214285714285714 and parameters: {'min_samples_split': 0.11938573532380353}. Best is trial 3 with value: 0.3214285714285714.\n",
      "[I 2023-09-05 19:21:40,481] Trial 9 finished with value: 0.3214285714285714 and parameters: {'min_samples_split': 0.10194042537426852}. Best is trial 3 with value: 0.3214285714285714.\n",
      "[I 2023-09-05 19:21:40,483] A new study created in memory with name: no-name-65d431bb-9d8f-4c26-bccc-3c9305c919f7\n",
      "[I 2023-09-05 19:21:40,493] Trial 0 finished with value: 0.4437830687830688 and parameters: {'min_samples_split': 0.10222612486575872}. Best is trial 0 with value: 0.4437830687830688.\n",
      "[I 2023-09-05 19:21:40,504] Trial 1 finished with value: 0.3133597883597884 and parameters: {'min_samples_split': 0.4390587181954727}. Best is trial 0 with value: 0.4437830687830688.\n",
      "[I 2023-09-05 19:21:40,514] Trial 2 finished with value: 0.4437830687830688 and parameters: {'min_samples_split': 0.013693796598963082}. Best is trial 0 with value: 0.4437830687830688.\n",
      "[I 2023-09-05 19:21:40,526] Trial 3 finished with value: 0.4437830687830688 and parameters: {'min_samples_split': 0.1126940661495758}. Best is trial 0 with value: 0.4437830687830688.\n",
      "[I 2023-09-05 19:21:40,539] Trial 4 finished with value: 0.4126102292768959 and parameters: {'min_samples_split': 0.22301760689465036}. Best is trial 0 with value: 0.4437830687830688.\n",
      "[I 2023-09-05 19:21:40,551] Trial 5 finished with value: 0.40119047619047615 and parameters: {'min_samples_split': 0.18771682888845692}. Best is trial 0 with value: 0.4437830687830688.\n",
      "[I 2023-09-05 19:21:40,563] Trial 6 finished with value: 0.4437830687830688 and parameters: {'min_samples_split': 0.00532746095031994}. Best is trial 0 with value: 0.4437830687830688.\n",
      "[I 2023-09-05 19:21:40,576] Trial 7 finished with value: 0.3641534391534391 and parameters: {'min_samples_split': 0.3300991447052286}. Best is trial 0 with value: 0.4437830687830688.\n",
      "[I 2023-09-05 19:21:40,588] Trial 8 finished with value: 0.4437830687830688 and parameters: {'min_samples_split': 0.12635902494861284}. Best is trial 0 with value: 0.4437830687830688.\n",
      "[I 2023-09-05 19:21:40,601] Trial 9 finished with value: 0.3641534391534391 and parameters: {'min_samples_split': 0.3103457858831361}. Best is trial 0 with value: 0.4437830687830688.\n",
      ".\n",
      "----------------------------------------------------------------------\n",
      "Ran 1 test in 0.618s\n",
      "\n",
      "OK\n"
     ]
    }
   ],
   "source": [
    "!python -m tests ExperimentoTest.test_resultados"
   ]
  },
  {
   "cell_type": "markdown",
   "metadata": {},
   "source": [
    "**Atividade 6 - propriedade (atributo calculado) macro_f1_avg:** Usando os resultados no teste (atributo resultados) calcule o macro f1 médio."
   ]
  },
  {
   "cell_type": "code",
   "execution_count": 1,
   "metadata": {
    "scrolled": false
   },
   "outputs": [
    {
     "name": "stdout",
     "output_type": "stream",
     "text": [
      "Macro F1 médio:0.4453968253968254\n"
     ]
    },
    {
     "name": "stderr",
     "output_type": "stream",
     "text": [
      "[I 2023-09-05 18:46:58,320] A new study created in memory with name: no-name-4389d48a-dbe7-461c-b47b-c76c8e5c3613\n",
      "[I 2023-09-05 18:46:58,332] Trial 0 finished with value: 0.6096560846560847 and parameters: {'min_samples_split': 0.208511002351287}. Best is trial 0 with value: 0.6096560846560847.\n",
      "[I 2023-09-05 18:46:58,343] Trial 1 finished with value: 0.5826719576719577 and parameters: {'min_samples_split': 0.36016224672107905}. Best is trial 1 with value: 0.5826719576719577.\n",
      "[I 2023-09-05 18:46:58,353] Trial 2 finished with value: 0.6294973544973546 and parameters: {'min_samples_split': 5.718740867244332e-05}. Best is trial 1 with value: 0.5826719576719577.\n",
      "[I 2023-09-05 18:46:58,366] Trial 3 finished with value: 0.4656084656084656 and parameters: {'min_samples_split': 0.49487872601666216}. Best is trial 3 with value: 0.4656084656084656.\n",
      "[I 2023-09-05 18:46:58,377] Trial 4 finished with value: 0.4656084656084656 and parameters: {'min_samples_split': 0.4894953284061807}. Best is trial 3 with value: 0.4656084656084656.\n",
      "[I 2023-09-05 18:46:58,391] Trial 5 finished with value: 0.4656084656084656 and parameters: {'min_samples_split': 0.4835976409771159}. Best is trial 3 with value: 0.4656084656084656.\n",
      "[I 2023-09-05 18:46:58,404] Trial 6 finished with value: 0.5826719576719577 and parameters: {'min_samples_split': 0.3171319451771857}. Best is trial 3 with value: 0.4656084656084656.\n",
      "[I 2023-09-05 18:46:58,417] Trial 7 finished with value: 0.5826719576719577 and parameters: {'min_samples_split': 0.39971761390173094}. Best is trial 3 with value: 0.4656084656084656.\n",
      "[I 2023-09-05 18:46:58,429] Trial 8 finished with value: 0.6096560846560847 and parameters: {'min_samples_split': 0.21649885689715676}. Best is trial 3 with value: 0.4656084656084656.\n",
      "[I 2023-09-05 18:46:58,441] Trial 9 finished with value: 0.5251322751322751 and parameters: {'min_samples_split': 0.4248259034279004}. Best is trial 3 with value: 0.4656084656084656.\n",
      "[I 2023-09-05 18:46:58,443] A new study created in memory with name: no-name-c977025b-1a8a-4392-b4fe-1621ebb314c4\n",
      "[I 2023-09-05 18:46:58,454] Trial 0 finished with value: 0.34378306878306875 and parameters: {'min_samples_split': 0.15116628631591988}. Best is trial 0 with value: 0.34378306878306875.\n",
      "[I 2023-09-05 18:46:58,464] Trial 1 finished with value: 0.30674603174603177 and parameters: {'min_samples_split': 0.07337794540855652}. Best is trial 1 with value: 0.30674603174603177.\n",
      "[I 2023-09-05 18:46:58,475] Trial 2 finished with value: 0.30674603174603177 and parameters: {'min_samples_split': 0.0461692973843989}. Best is trial 1 with value: 0.30674603174603177.\n",
      "[I 2023-09-05 18:46:58,487] Trial 3 finished with value: 0.3255291005291005 and parameters: {'min_samples_split': 0.44762527068545865}. Best is trial 1 with value: 0.30674603174603177.\n",
      "[I 2023-09-05 18:46:58,499] Trial 4 finished with value: 0.30674603174603177 and parameters: {'min_samples_split': 0.00867375469363768}. Best is trial 1 with value: 0.30674603174603177.\n",
      "[I 2023-09-05 18:46:58,512] Trial 5 finished with value: 0.3310846560846561 and parameters: {'min_samples_split': 0.26058373997519885}. Best is trial 1 with value: 0.30674603174603177.\n",
      "[I 2023-09-05 18:46:58,525] Trial 6 finished with value: 0.34378306878306875 and parameters: {'min_samples_split': 0.18455752498894246}. Best is trial 1 with value: 0.30674603174603177.\n",
      "[I 2023-09-05 18:46:58,537] Trial 7 finished with value: 0.30674603174603177 and parameters: {'min_samples_split': 0.001648795136324821}. Best is trial 1 with value: 0.30674603174603177.\n",
      "[I 2023-09-05 18:46:58,549] Trial 8 finished with value: 0.3310846560846561 and parameters: {'min_samples_split': 0.28471848604149114}. Best is trial 1 with value: 0.30674603174603177.\n",
      "[I 2023-09-05 18:46:58,561] Trial 9 finished with value: 0.30674603174603177 and parameters: {'min_samples_split': 0.09249491213283062}. Best is trial 1 with value: 0.30674603174603177.\n",
      "[I 2023-09-05 18:46:58,563] A new study created in memory with name: no-name-16354c71-a175-4e87-83b8-f874afbe4297\n",
      "[I 2023-09-05 18:46:58,574] Trial 0 finished with value: 0.3968253968253968 and parameters: {'min_samples_split': 0.09313010568883545}. Best is trial 0 with value: 0.3968253968253968.\n",
      "[I 2023-09-05 18:46:58,584] Trial 1 finished with value: 0.40873015873015867 and parameters: {'min_samples_split': 0.17278036352152387}. Best is trial 0 with value: 0.3968253968253968.\n",
      "[I 2023-09-05 18:46:58,594] Trial 2 finished with value: 0.40873015873015867 and parameters: {'min_samples_split': 0.19838373711533497}. Best is trial 0 with value: 0.3968253968253968.\n",
      "[I 2023-09-05 18:46:58,607] Trial 3 finished with value: 0.3968253968253968 and parameters: {'min_samples_split': 0.04267214009278403}. Best is trial 0 with value: 0.3968253968253968.\n",
      "[I 2023-09-05 18:46:58,619] Trial 4 finished with value: 0.3357142857142857 and parameters: {'min_samples_split': 0.48113458570282364}. Best is trial 4 with value: 0.3357142857142857.\n",
      "[I 2023-09-05 18:46:58,631] Trial 5 finished with value: 0.3357142857142857 and parameters: {'min_samples_split': 0.4816650616547629}. Best is trial 4 with value: 0.3357142857142857.\n",
      "[I 2023-09-05 18:46:58,644] Trial 6 finished with value: 0.3357142857142857 and parameters: {'min_samples_split': 0.492724196255976}. Best is trial 4 with value: 0.3357142857142857.\n",
      "[I 2023-09-05 18:46:58,656] Trial 7 finished with value: 0.3357142857142857 and parameters: {'min_samples_split': 0.36173276804468163}. Best is trial 4 with value: 0.3357142857142857.\n",
      "[I 2023-09-05 18:46:58,669] Trial 8 finished with value: 0.4005291005291005 and parameters: {'min_samples_split': 0.3267742759816392}. Best is trial 4 with value: 0.3357142857142857.\n",
      "[I 2023-09-05 18:46:58,682] Trial 9 finished with value: 0.3357142857142857 and parameters: {'min_samples_split': 0.37740927299433324}. Best is trial 4 with value: 0.3357142857142857.\n",
      "[I 2023-09-05 18:46:58,683] A new study created in memory with name: no-name-cfe3d2bf-28a7-4ed1-a79b-4311b2200a9a\n",
      "[I 2023-09-05 18:46:58,694] Trial 0 finished with value: 0.2537037037037037 and parameters: {'min_samples_split': 0.2694083670016785}. Best is trial 0 with value: 0.2537037037037037.\n",
      "[I 2023-09-05 18:46:58,704] Trial 1 finished with value: 0.2814814814814815 and parameters: {'min_samples_split': 0.2095972572016474}. Best is trial 0 with value: 0.2537037037037037.\n",
      "[I 2023-09-05 18:46:58,715] Trial 2 finished with value: 0.2222222222222222 and parameters: {'min_samples_split': 0.34260975019837975}. Best is trial 2 with value: 0.2222222222222222.\n",
      "[I 2023-09-05 18:46:58,727] Trial 3 finished with value: 0.2208994708994709 and parameters: {'min_samples_split': 0.48653993653426747}. Best is trial 3 with value: 0.2208994708994709.\n",
      "[I 2023-09-05 18:46:58,739] Trial 4 finished with value: 0.2208994708994709 and parameters: {'min_samples_split': 0.48913055223921786}. Best is trial 3 with value: 0.2208994708994709.\n",
      "[I 2023-09-05 18:46:58,751] Trial 5 finished with value: 0.3214285714285714 and parameters: {'min_samples_split': 0.07923435188291966}. Best is trial 3 with value: 0.2208994708994709.\n",
      "[I 2023-09-05 18:46:58,764] Trial 6 finished with value: 0.2208994708994709 and parameters: {'min_samples_split': 0.47277796857775584}. Best is trial 3 with value: 0.2208994708994709.\n",
      "[I 2023-09-05 18:46:58,776] Trial 7 finished with value: 0.2222222222222222 and parameters: {'min_samples_split': 0.37139800889887686}. Best is trial 3 with value: 0.2208994708994709.\n",
      "[I 2023-09-05 18:46:58,789] Trial 8 finished with value: 0.3214285714285714 and parameters: {'min_samples_split': 0.019077287384459907}. Best is trial 3 with value: 0.2208994708994709.\n",
      "[I 2023-09-05 18:46:58,802] Trial 9 finished with value: 0.2222222222222222 and parameters: {'min_samples_split': 0.4093607614097818}. Best is trial 3 with value: 0.2208994708994709.\n",
      "[I 2023-09-05 18:46:58,803] A new study created in memory with name: no-name-b6af77d4-3830-4276-bd42-509b24f9693d\n",
      "[I 2023-09-05 18:46:58,814] Trial 0 finished with value: 0.4437830687830688 and parameters: {'min_samples_split': 0.10222612486575872}. Best is trial 0 with value: 0.4437830687830688.\n",
      "[I 2023-09-05 18:46:58,824] Trial 1 finished with value: 0.3133597883597884 and parameters: {'min_samples_split': 0.4390587181954727}. Best is trial 1 with value: 0.3133597883597884.\n",
      "[I 2023-09-05 18:46:58,834] Trial 2 finished with value: 0.4437830687830688 and parameters: {'min_samples_split': 0.013693796598963082}. Best is trial 1 with value: 0.3133597883597884.\n",
      "[I 2023-09-05 18:46:58,846] Trial 3 finished with value: 0.3133597883597884 and parameters: {'min_samples_split': 0.4991957356803357}. Best is trial 1 with value: 0.3133597883597884.\n",
      "[I 2023-09-05 18:46:58,859] Trial 4 finished with value: 0.3133597883597884 and parameters: {'min_samples_split': 0.42829402808769296}. Best is trial 1 with value: 0.3133597883597884.\n",
      "[I 2023-09-05 18:46:58,870] Trial 5 finished with value: 0.3641534391534391 and parameters: {'min_samples_split': 0.314105683709181}. Best is trial 1 with value: 0.3133597883597884.\n",
      "[I 2023-09-05 18:46:58,884] Trial 6 finished with value: 0.3641534391534391 and parameters: {'min_samples_split': 0.3391345811703279}. Best is trial 1 with value: 0.3133597883597884.\n",
      "[I 2023-09-05 18:46:58,895] Trial 7 finished with value: 0.40119047619047615 and parameters: {'min_samples_split': 0.20662340756561}. Best is trial 1 with value: 0.3133597883597884.\n",
      "[I 2023-09-05 18:46:58,908] Trial 8 finished with value: 0.3133597883597884 and parameters: {'min_samples_split': 0.4899406004183687}. Best is trial 1 with value: 0.3133597883597884.\n",
      "[I 2023-09-05 18:46:58,920] Trial 9 finished with value: 0.3641534391534391 and parameters: {'min_samples_split': 0.37738526105648906}. Best is trial 1 with value: 0.3133597883597884.\n",
      "F\n",
      "======================================================================\n",
      "FAIL: test_macro_f1_avg (__main__.ExperimentoTest.test_macro_f1_avg)\n",
      "----------------------------------------------------------------------\n",
      "Traceback (most recent call last):\n",
      "  File \"h:\\Github\\machine-learning-algorithms\\ap-de-maquina-cefetmg-avaliacao-master\\tests.py\", line 180, in test_macro_f1_avg\n",
      "    self.assertAlmostEqual(exp.macro_f1_avg, 0.41880952380952385, msg=\"Valor inesperado de Macro F1\")\n",
      "AssertionError: 0.4453968253968254 != 0.41880952380952385 within 7 places (0.02658730158730155 difference) : Valor inesperado de Macro F1\n",
      "\n",
      "----------------------------------------------------------------------\n",
      "Ran 1 test in 0.609s\n",
      "\n",
      "FAILED (failures=1)\n"
     ]
    }
   ],
   "source": [
    "!python -m tests ExperimentoTest.test_macro_f1_avg"
   ]
  },
  {
   "cell_type": "markdown",
   "metadata": {},
   "source": [
    "## Análise dos parametros"
   ]
  },
  {
   "cell_type": "markdown",
   "metadata": {},
   "source": [
    "Nesta parte você irá ver uma representação tabular e grafica que o auxiliará para analise de parametros. A representação grafica é por meio do hiplot. "
   ]
  },
  {
   "cell_type": "code",
   "execution_count": 15,
   "metadata": {},
   "outputs": [
    {
     "name": "stderr",
     "output_type": "stream",
     "text": [
      "[I 2023-09-05 17:36:46,023] A new study created in memory with name: no-name-bff57790-12a4-4482-ac5f-8f58738f20d0\n",
      "h:\\Github\\machine-learning-algorithms\\ap-de-maquina-cefetmg-avaliacao-master\\avaliacao.py:126: FutureWarning: suggest_uniform has been deprecated in v3.0.0. This feature will be removed in v6.0.0. See https://github.com/optuna/optuna/releases/tag/v3.0.0. Use suggest_float instead.\n",
      "  min_samples = trial.suggest_uniform('min_samples_split', 0, 0.5)\n",
      "h:\\Github\\machine-learning-algorithms\\ap-de-maquina-cefetmg-avaliacao-master\\avaliacao.py:127: FutureWarning: suggest_uniform has been deprecated in v3.0.0. This feature will be removed in v6.0.0. See https://github.com/optuna/optuna/releases/tag/v3.0.0. Use suggest_float instead.\n",
      "  max_features = trial.suggest_uniform('max_features', 0, 0.5)\n",
      "h:\\Github\\machine-learning-algorithms\\ap-de-maquina-cefetmg-avaliacao-master\\resultado.py:75: UndefinedMetricWarning: Não há elementos previstos para a classe 0 precisão foi definida como zero.\n",
      "  warnings.warn(\"Não há elementos previstos para a classe \"+str(classe)+\" precisão foi definida como zero.\", UndefinedMetricWarning)\n",
      "h:\\Github\\machine-learning-algorithms\\ap-de-maquina-cefetmg-avaliacao-master\\resultado.py:75: UndefinedMetricWarning: Não há elementos previstos para a classe 0 precisão foi definida como zero.\n",
      "  warnings.warn(\"Não há elementos previstos para a classe \"+str(classe)+\" precisão foi definida como zero.\", UndefinedMetricWarning)\n",
      "h:\\Github\\machine-learning-algorithms\\ap-de-maquina-cefetmg-avaliacao-master\\resultado.py:75: UndefinedMetricWarning: Não há elementos previstos para a classe 0 precisão foi definida como zero.\n",
      "  warnings.warn(\"Não há elementos previstos para a classe \"+str(classe)+\" precisão foi definida como zero.\", UndefinedMetricWarning)\n",
      "h:\\Github\\machine-learning-algorithms\\ap-de-maquina-cefetmg-avaliacao-master\\resultado.py:75: UndefinedMetricWarning: Não há elementos previstos para a classe 0 precisão foi definida como zero.\n",
      "  warnings.warn(\"Não há elementos previstos para a classe \"+str(classe)+\" precisão foi definida como zero.\", UndefinedMetricWarning)\n",
      "[I 2023-09-05 17:36:46,043] Trial 0 finished with value: 0.3967592592592593 and parameters: {'min_samples_split': 0.208511002351287, 'max_features': 0.36016224672107905, 'num_arvores': 1}. Best is trial 0 with value: 0.3967592592592593.\n"
     ]
    },
    {
     "name": "stderr",
     "output_type": "stream",
     "text": [
      "h:\\Github\\machine-learning-algorithms\\ap-de-maquina-cefetmg-avaliacao-master\\avaliacao.py:126: FutureWarning: suggest_uniform has been deprecated in v3.0.0. This feature will be removed in v6.0.0. See https://github.com/optuna/optuna/releases/tag/v3.0.0. Use suggest_float instead.\n",
      "  min_samples = trial.suggest_uniform('min_samples_split', 0, 0.5)\n",
      "h:\\Github\\machine-learning-algorithms\\ap-de-maquina-cefetmg-avaliacao-master\\avaliacao.py:127: FutureWarning: suggest_uniform has been deprecated in v3.0.0. This feature will be removed in v6.0.0. See https://github.com/optuna/optuna/releases/tag/v3.0.0. Use suggest_float instead.\n",
      "  max_features = trial.suggest_uniform('max_features', 0, 0.5)\n",
      "h:\\Github\\machine-learning-algorithms\\ap-de-maquina-cefetmg-avaliacao-master\\resultado.py:75: UndefinedMetricWarning: Não há elementos previstos para a classe 0 precisão foi definida como zero.\n",
      "  warnings.warn(\"Não há elementos previstos para a classe \"+str(classe)+\" precisão foi definida como zero.\", UndefinedMetricWarning)\n",
      "h:\\Github\\machine-learning-algorithms\\ap-de-maquina-cefetmg-avaliacao-master\\resultado.py:75: UndefinedMetricWarning: Não há elementos previstos para a classe 0 precisão foi definida como zero.\n",
      "  warnings.warn(\"Não há elementos previstos para a classe \"+str(classe)+\" precisão foi definida como zero.\", UndefinedMetricWarning)\n",
      "h:\\Github\\machine-learning-algorithms\\ap-de-maquina-cefetmg-avaliacao-master\\resultado.py:75: UndefinedMetricWarning: Não há elementos previstos para a classe 0 precisão foi definida como zero.\n",
      "  warnings.warn(\"Não há elementos previstos para a classe \"+str(classe)+\" precisão foi definida como zero.\", UndefinedMetricWarning)\n",
      "h:\\Github\\machine-learning-algorithms\\ap-de-maquina-cefetmg-avaliacao-master\\resultado.py:75: UndefinedMetricWarning: Não há elementos previstos para a classe 0 precisão foi definida como zero.\n",
      "  warnings.warn(\"Não há elementos previstos para a classe \"+str(classe)+\" precisão foi definida como zero.\", UndefinedMetricWarning)\n",
      "[I 2023-09-05 17:36:46,064] Trial 1 finished with value: 0.42361111111111116 and parameters: {'min_samples_split': 0.15116628631591988, 'max_features': 0.07337794540855652, 'num_arvores': 1}. Best is trial 0 with value: 0.3967592592592593.\n",
      "h:\\Github\\machine-learning-algorithms\\ap-de-maquina-cefetmg-avaliacao-master\\avaliacao.py:126: FutureWarning: suggest_uniform has been deprecated in v3.0.0. This feature will be removed in v6.0.0. See https://github.com/optuna/optuna/releases/tag/v3.0.0. Use suggest_float instead.\n",
      "  min_samples = trial.suggest_uniform('min_samples_split', 0, 0.5)\n",
      "h:\\Github\\machine-learning-algorithms\\ap-de-maquina-cefetmg-avaliacao-master\\avaliacao.py:127: FutureWarning: suggest_uniform has been deprecated in v3.0.0. This feature will be removed in v6.0.0. See https://github.com/optuna/optuna/releases/tag/v3.0.0. Use suggest_float instead.\n",
      "  max_features = trial.suggest_uniform('max_features', 0, 0.5)\n",
      "h:\\Github\\machine-learning-algorithms\\ap-de-maquina-cefetmg-avaliacao-master\\resultado.py:75: UndefinedMetricWarning: Não há elementos previstos para a classe 0 precisão foi definida como zero.\n",
      "  warnings.warn(\"Não há elementos previstos para a classe \"+str(classe)+\" precisão foi definida como zero.\", UndefinedMetricWarning)\n",
      "h:\\Github\\machine-learning-algorithms\\ap-de-maquina-cefetmg-avaliacao-master\\resultado.py:75: UndefinedMetricWarning: Não há elementos previstos para a classe 0 precisão foi definida como zero.\n",
      "  warnings.warn(\"Não há elementos previstos para a classe \"+str(classe)+\" precisão foi definida como zero.\", UndefinedMetricWarning)\n",
      "[I 2023-09-05 17:36:46,091] Trial 2 finished with value: 0.4427248677248677 and parameters: {'min_samples_split': 0.09313010568883545, 'max_features': 0.17278036352152387, 'num_arvores': 2}. Best is trial 0 with value: 0.3967592592592593.\n",
      "h:\\Github\\machine-learning-algorithms\\ap-de-maquina-cefetmg-avaliacao-master\\avaliacao.py:126: FutureWarning: suggest_uniform has been deprecated in v3.0.0. This feature will be removed in v6.0.0. See https://github.com/optuna/optuna/releases/tag/v3.0.0. Use suggest_float instead.\n",
      "  min_samples = trial.suggest_uniform('min_samples_split', 0, 0.5)\n",
      "h:\\Github\\machine-learning-algorithms\\ap-de-maquina-cefetmg-avaliacao-master\\avaliacao.py:127: FutureWarning: suggest_uniform has been deprecated in v3.0.0. This feature will be removed in v6.0.0. See https://github.com/optuna/optuna/releases/tag/v3.0.0. Use suggest_float instead.\n",
      "  max_features = trial.suggest_uniform('max_features', 0, 0.5)\n",
      "h:\\Github\\machine-learning-algorithms\\ap-de-maquina-cefetmg-avaliacao-master\\resultado.py:75: UndefinedMetricWarning: Não há elementos previstos para a classe 0 precisão foi definida como zero.\n",
      "  warnings.warn(\"Não há elementos previstos para a classe \"+str(classe)+\" precisão foi definida como zero.\", UndefinedMetricWarning)\n",
      "h:\\Github\\machine-learning-algorithms\\ap-de-maquina-cefetmg-avaliacao-master\\resultado.py:75: UndefinedMetricWarning: Não há elementos previstos para a classe 0 precisão foi definida como zero.\n",
      "  warnings.warn(\"Não há elementos previstos para a classe \"+str(classe)+\" precisão foi definida como zero.\", UndefinedMetricWarning)\n",
      "h:\\Github\\machine-learning-algorithms\\ap-de-maquina-cefetmg-avaliacao-master\\resultado.py:75: UndefinedMetricWarning: Não há elementos previstos para a classe 0 precisão foi definida como zero.\n",
      "  warnings.warn(\"Não há elementos previstos para a classe \"+str(classe)+\" precisão foi definida como zero.\", UndefinedMetricWarning)\n",
      "h:\\Github\\machine-learning-algorithms\\ap-de-maquina-cefetmg-avaliacao-master\\resultado.py:75: UndefinedMetricWarning: Não há elementos previstos para a classe 0 precisão foi definida como zero.\n",
      "  warnings.warn(\"Não há elementos previstos para a classe \"+str(classe)+\" precisão foi definida como zero.\", UndefinedMetricWarning)\n",
      "[I 2023-09-05 17:36:46,130] Trial 3 finished with value: 0.5009259259259259 and parameters: {'min_samples_split': 0.405810572624385, 'max_features': 0.45614403752767535, 'num_arvores': 5}. Best is trial 0 with value: 0.3967592592592593.\n",
      "h:\\Github\\machine-learning-algorithms\\ap-de-maquina-cefetmg-avaliacao-master\\avaliacao.py:126: FutureWarning: suggest_uniform has been deprecated in v3.0.0. This feature will be removed in v6.0.0. See https://github.com/optuna/optuna/releases/tag/v3.0.0. Use suggest_float instead.\n",
      "  min_samples = trial.suggest_uniform('min_samples_split', 0, 0.5)\n",
      "h:\\Github\\machine-learning-algorithms\\ap-de-maquina-cefetmg-avaliacao-master\\avaliacao.py:127: FutureWarning: suggest_uniform has been deprecated in v3.0.0. This feature will be removed in v6.0.0. See https://github.com/optuna/optuna/releases/tag/v3.0.0. Use suggest_float instead.\n",
      "  max_features = trial.suggest_uniform('max_features', 0, 0.5)\n",
      "h:\\Github\\machine-learning-algorithms\\ap-de-maquina-cefetmg-avaliacao-master\\resultado.py:75: UndefinedMetricWarning: Não há elementos previstos para a classe 0 precisão foi definida como zero.\n",
      "  warnings.warn(\"Não há elementos previstos para a classe \"+str(classe)+\" precisão foi definida como zero.\", UndefinedMetricWarning)\n",
      "h:\\Github\\machine-learning-algorithms\\ap-de-maquina-cefetmg-avaliacao-master\\resultado.py:75: UndefinedMetricWarning: Não há elementos previstos para a classe 0 precisão foi definida como zero.\n",
      "  warnings.warn(\"Não há elementos previstos para a classe \"+str(classe)+\" precisão foi definida como zero.\", UndefinedMetricWarning)\n",
      "h:\\Github\\machine-learning-algorithms\\ap-de-maquina-cefetmg-avaliacao-master\\resultado.py:75: UndefinedMetricWarning: Não há elementos previstos para a classe 0 precisão foi definida como zero.\n",
      "  warnings.warn(\"Não há elementos previstos para a classe \"+str(classe)+\" precisão foi definida como zero.\", UndefinedMetricWarning)\n",
      "h:\\Github\\machine-learning-algorithms\\ap-de-maquina-cefetmg-avaliacao-master\\resultado.py:75: UndefinedMetricWarning: Não há elementos previstos para a classe 0 precisão foi definida como zero.\n",
      "  warnings.warn(\"Não há elementos previstos para a classe \"+str(classe)+\" precisão foi definida como zero.\", UndefinedMetricWarning)\n",
      "[I 2023-09-05 17:36:46,166] Trial 4 finished with value: 0.5052910052910052 and parameters: {'min_samples_split': 0.2883091903863414, 'max_features': 0.3520513856377158, 'num_arvores': 4}. Best is trial 0 with value: 0.3967592592592593.\n",
      "h:\\Github\\machine-learning-algorithms\\ap-de-maquina-cefetmg-avaliacao-master\\avaliacao.py:126: FutureWarning: suggest_uniform has been deprecated in v3.0.0. This feature will be removed in v6.0.0. See https://github.com/optuna/optuna/releases/tag/v3.0.0. Use suggest_float instead.\n",
      "  min_samples = trial.suggest_uniform('min_samples_split', 0, 0.5)\n",
      "h:\\Github\\machine-learning-algorithms\\ap-de-maquina-cefetmg-avaliacao-master\\avaliacao.py:127: FutureWarning: suggest_uniform has been deprecated in v3.0.0. This feature will be removed in v6.0.0. See https://github.com/optuna/optuna/releases/tag/v3.0.0. Use suggest_float instead.\n",
      "  max_features = trial.suggest_uniform('max_features', 0, 0.5)\n",
      "h:\\Github\\machine-learning-algorithms\\ap-de-maquina-cefetmg-avaliacao-master\\resultado.py:75: UndefinedMetricWarning: Não há elementos previstos para a classe 0 precisão foi definida como zero.\n",
      "  warnings.warn(\"Não há elementos previstos para a classe \"+str(classe)+\" precisão foi definida como zero.\", UndefinedMetricWarning)\n",
      "h:\\Github\\machine-learning-algorithms\\ap-de-maquina-cefetmg-avaliacao-master\\resultado.py:75: UndefinedMetricWarning: Não há elementos previstos para a classe 0 precisão foi definida como zero.\n",
      "  warnings.warn(\"Não há elementos previstos para a classe \"+str(classe)+\" precisão foi definida como zero.\", UndefinedMetricWarning)\n",
      "h:\\Github\\machine-learning-algorithms\\ap-de-maquina-cefetmg-avaliacao-master\\resultado.py:75: UndefinedMetricWarning: Não há elementos previstos para a classe 0 precisão foi definida como zero.\n",
      "  warnings.warn(\"Não há elementos previstos para a classe \"+str(classe)+\" precisão foi definida como zero.\", UndefinedMetricWarning)\n",
      "h:\\Github\\machine-learning-algorithms\\ap-de-maquina-cefetmg-avaliacao-master\\resultado.py:75: UndefinedMetricWarning: Não há elementos previstos para a classe 0 precisão foi definida como zero.\n",
      "  warnings.warn(\"Não há elementos previstos para a classe \"+str(classe)+\" precisão foi definida como zero.\", UndefinedMetricWarning)\n",
      "[I 2023-09-05 17:36:46,190] Trial 5 finished with value: 0.4003968253968255 and parameters: {'min_samples_split': 0.012071902817666014, 'max_features': 0.31574889076517115, 'num_arvores': 1}. Best is trial 0 with value: 0.3967592592592593.\n",
      "h:\\Github\\machine-learning-algorithms\\ap-de-maquina-cefetmg-avaliacao-master\\avaliacao.py:126: FutureWarning: suggest_uniform has been deprecated in v3.0.0. This feature will be removed in v6.0.0. See https://github.com/optuna/optuna/releases/tag/v3.0.0. Use suggest_float instead.\n",
      "  min_samples = trial.suggest_uniform('min_samples_split', 0, 0.5)\n",
      "h:\\Github\\machine-learning-algorithms\\ap-de-maquina-cefetmg-avaliacao-master\\avaliacao.py:127: FutureWarning: suggest_uniform has been deprecated in v3.0.0. This feature will be removed in v6.0.0. See https://github.com/optuna/optuna/releases/tag/v3.0.0. Use suggest_float instead.\n",
      "  max_features = trial.suggest_uniform('max_features', 0, 0.5)\n",
      "h:\\Github\\machine-learning-algorithms\\ap-de-maquina-cefetmg-avaliacao-master\\resultado.py:75: UndefinedMetricWarning: Não há elementos previstos para a classe 0 precisão foi definida como zero.\n",
      "  warnings.warn(\"Não há elementos previstos para a classe \"+str(classe)+\" precisão foi definida como zero.\", UndefinedMetricWarning)\n",
      "h:\\Github\\machine-learning-algorithms\\ap-de-maquina-cefetmg-avaliacao-master\\resultado.py:75: UndefinedMetricWarning: Não há elementos previstos para a classe 0 precisão foi definida como zero.\n",
      "  warnings.warn(\"Não há elementos previstos para a classe \"+str(classe)+\" precisão foi definida como zero.\", UndefinedMetricWarning)\n",
      "h:\\Github\\machine-learning-algorithms\\ap-de-maquina-cefetmg-avaliacao-master\\resultado.py:75: UndefinedMetricWarning: Não há elementos previstos para a classe 0 precisão foi definida como zero.\n",
      "  warnings.warn(\"Não há elementos previstos para a classe \"+str(classe)+\" precisão foi definida como zero.\", UndefinedMetricWarning)\n",
      "h:\\Github\\machine-learning-algorithms\\ap-de-maquina-cefetmg-avaliacao-master\\resultado.py:75: UndefinedMetricWarning: Não há elementos previstos para a classe 0 precisão foi definida como zero.\n",
      "  warnings.warn(\"Não há elementos previstos para a classe \"+str(classe)+\" precisão foi definida como zero.\", UndefinedMetricWarning)\n",
      "[I 2023-09-05 17:36:46,220] Trial 6 finished with value: 0.46018518518518525 and parameters: {'min_samples_split': 0.26058373997519885, 'max_features': 0.4982359796656646, 'num_arvores': 3}. Best is trial 0 with value: 0.3967592592592593.\n",
      "h:\\Github\\machine-learning-algorithms\\ap-de-maquina-cefetmg-avaliacao-master\\avaliacao.py:126: FutureWarning: suggest_uniform has been deprecated in v3.0.0. This feature will be removed in v6.0.0. See https://github.com/optuna/optuna/releases/tag/v3.0.0. Use suggest_float instead.\n",
      "  min_samples = trial.suggest_uniform('min_samples_split', 0, 0.5)\n",
      "h:\\Github\\machine-learning-algorithms\\ap-de-maquina-cefetmg-avaliacao-master\\avaliacao.py:127: FutureWarning: suggest_uniform has been deprecated in v3.0.0. This feature will be removed in v6.0.0. See https://github.com/optuna/optuna/releases/tag/v3.0.0. Use suggest_float instead.\n",
      "  max_features = trial.suggest_uniform('max_features', 0, 0.5)\n",
      "h:\\Github\\machine-learning-algorithms\\ap-de-maquina-cefetmg-avaliacao-master\\resultado.py:75: UndefinedMetricWarning: Não há elementos previstos para a classe 0 precisão foi definida como zero.\n",
      "  warnings.warn(\"Não há elementos previstos para a classe \"+str(classe)+\" precisão foi definida como zero.\", UndefinedMetricWarning)\n",
      "h:\\Github\\machine-learning-algorithms\\ap-de-maquina-cefetmg-avaliacao-master\\resultado.py:75: UndefinedMetricWarning: Não há elementos previstos para a classe 1 precisão foi definida como zero.\n",
      "  warnings.warn(\"Não há elementos previstos para a classe \"+str(classe)+\" precisão foi definida como zero.\", UndefinedMetricWarning)\n",
      "h:\\Github\\machine-learning-algorithms\\ap-de-maquina-cefetmg-avaliacao-master\\resultado.py:75: UndefinedMetricWarning: Não há elementos previstos para a classe 0 precisão foi definida como zero.\n",
      "  warnings.warn(\"Não há elementos previstos para a classe \"+str(classe)+\" precisão foi definida como zero.\", UndefinedMetricWarning)\n",
      "[I 2023-09-05 17:36:46,250] Trial 7 finished with value: 0.3962301587301587 and parameters: {'min_samples_split': 0.4870545423428796, 'max_features': 0.23167924255490305, 'num_arvores': 2}. Best is trial 7 with value: 0.3962301587301587.\n",
      "h:\\Github\\machine-learning-algorithms\\ap-de-maquina-cefetmg-avaliacao-master\\avaliacao.py:126: FutureWarning: suggest_uniform has been deprecated in v3.0.0. This feature will be removed in v6.0.0. See https://github.com/optuna/optuna/releases/tag/v3.0.0. Use suggest_float instead.\n",
      "  min_samples = trial.suggest_uniform('min_samples_split', 0, 0.5)\n",
      "h:\\Github\\machine-learning-algorithms\\ap-de-maquina-cefetmg-avaliacao-master\\avaliacao.py:127: FutureWarning: suggest_uniform has been deprecated in v3.0.0. This feature will be removed in v6.0.0. See https://github.com/optuna/optuna/releases/tag/v3.0.0. Use suggest_float instead.\n",
      "  max_features = trial.suggest_uniform('max_features', 0, 0.5)\n",
      "h:\\Github\\machine-learning-algorithms\\ap-de-maquina-cefetmg-avaliacao-master\\resultado.py:75: UndefinedMetricWarning: Não há elementos previstos para a classe 0 precisão foi definida como zero.\n",
      "  warnings.warn(\"Não há elementos previstos para a classe \"+str(classe)+\" precisão foi definida como zero.\", UndefinedMetricWarning)\n",
      "h:\\Github\\machine-learning-algorithms\\ap-de-maquina-cefetmg-avaliacao-master\\resultado.py:75: UndefinedMetricWarning: Não há elementos previstos para a classe 0 precisão foi definida como zero.\n",
      "  warnings.warn(\"Não há elementos previstos para a classe \"+str(classe)+\" precisão foi definida como zero.\", UndefinedMetricWarning)\n",
      "h:\\Github\\machine-learning-algorithms\\ap-de-maquina-cefetmg-avaliacao-master\\resultado.py:75: UndefinedMetricWarning: Não há elementos previstos para a classe 0 precisão foi definida como zero.\n",
      "  warnings.warn(\"Não há elementos previstos para a classe \"+str(classe)+\" precisão foi definida como zero.\", UndefinedMetricWarning)\n",
      "h:\\Github\\machine-learning-algorithms\\ap-de-maquina-cefetmg-avaliacao-master\\resultado.py:75: UndefinedMetricWarning: Não há elementos previstos para a classe 0 precisão foi definida como zero.\n",
      "  warnings.warn(\"Não há elementos previstos para a classe \"+str(classe)+\" precisão foi definida como zero.\", UndefinedMetricWarning)\n",
      "[I 2023-09-05 17:36:46,282] Trial 8 finished with value: 0.5071428571428572 and parameters: {'min_samples_split': 0.48113458570282364, 'max_features': 0.20999107514855953, 'num_arvores': 3}. Best is trial 7 with value: 0.3962301587301587.\n",
      "h:\\Github\\machine-learning-algorithms\\ap-de-maquina-cefetmg-avaliacao-master\\avaliacao.py:126: FutureWarning: suggest_uniform has been deprecated in v3.0.0. This feature will be removed in v6.0.0. See https://github.com/optuna/optuna/releases/tag/v3.0.0. Use suggest_float instead.\n",
      "  min_samples = trial.suggest_uniform('min_samples_split', 0, 0.5)\n",
      "h:\\Github\\machine-learning-algorithms\\ap-de-maquina-cefetmg-avaliacao-master\\avaliacao.py:127: FutureWarning: suggest_uniform has been deprecated in v3.0.0. This feature will be removed in v6.0.0. See https://github.com/optuna/optuna/releases/tag/v3.0.0. Use suggest_float instead.\n",
      "  max_features = trial.suggest_uniform('max_features', 0, 0.5)\n",
      "h:\\Github\\machine-learning-algorithms\\ap-de-maquina-cefetmg-avaliacao-master\\resultado.py:75: UndefinedMetricWarning: Não há elementos previstos para a classe 0 precisão foi definida como zero.\n",
      "  warnings.warn(\"Não há elementos previstos para a classe \"+str(classe)+\" precisão foi definida como zero.\", UndefinedMetricWarning)\n",
      "h:\\Github\\machine-learning-algorithms\\ap-de-maquina-cefetmg-avaliacao-master\\resultado.py:75: UndefinedMetricWarning: Não há elementos previstos para a classe 1 precisão foi definida como zero.\n",
      "  warnings.warn(\"Não há elementos previstos para a classe \"+str(classe)+\" precisão foi definida como zero.\", UndefinedMetricWarning)\n",
      "h:\\Github\\machine-learning-algorithms\\ap-de-maquina-cefetmg-avaliacao-master\\resultado.py:75: UndefinedMetricWarning: Não há elementos previstos para a classe 0 precisão foi definida como zero.\n",
      "  warnings.warn(\"Não há elementos previstos para a classe \"+str(classe)+\" precisão foi definida como zero.\", UndefinedMetricWarning)\n",
      "[I 2023-09-05 17:36:46,313] Trial 9 finished with value: 0.3962301587301587 and parameters: {'min_samples_split': 0.49731292214726397, 'max_features': 0.014793291132928515, 'num_arvores': 2}. Best is trial 7 with value: 0.3962301587301587.\n"
     ]
    },
    {
     "ename": "AttributeError",
     "evalue": "type object 'OtimizacaoObjetivoRandomForest' has no attribute 'arr_evaluated_methods'",
     "output_type": "error",
     "traceback": [
      "\u001b[1;31m---------------------------------------------------------------------------\u001b[0m",
      "\u001b[1;31mAttributeError\u001b[0m                            Traceback (most recent call last)",
      "Cell \u001b[1;32mIn[15], line 20\u001b[0m\n\u001b[0;32m     17\u001b[0m ml_method \u001b[39m=\u001b[39m ScikitLearnAprendizadoDeMaquina(clf_dtree)\n\u001b[0;32m     18\u001b[0m exp \u001b[39m=\u001b[39m Experimento(folds,ml_method, OtimizacaoObjetivoRandomForest, num_trials\u001b[39m=\u001b[39m\u001b[39m10\u001b[39m,\n\u001b[0;32m     19\u001b[0m                     sampler\u001b[39m=\u001b[39moptuna\u001b[39m.\u001b[39msamplers\u001b[39m.\u001b[39mTPESampler(seed\u001b[39m=\u001b[39m\u001b[39m1\u001b[39m, n_startup_trials\u001b[39m=\u001b[39m\u001b[39m3\u001b[39m))\n\u001b[1;32m---> 20\u001b[0m exp\u001b[39m.\u001b[39;49mcalcula_resultados()\n",
      "File \u001b[1;32mh:\\Github\\machine-learning-algorithms\\ap-de-maquina-cefetmg-avaliacao-master\\avaliacao.py:58\u001b[0m, in \u001b[0;36mExperimento.calcula_resultados\u001b[1;34m(self)\u001b[0m\n\u001b[0;32m     54\u001b[0m     study\u001b[39m.\u001b[39moptimize(objetivo_otimizacao, n_trials\u001b[39m=\u001b[39m\u001b[39mself\u001b[39m\u001b[39m.\u001b[39mnum_trials)\n\u001b[0;32m     56\u001b[0m     \u001b[39m#1.(a) obtem o melhor metodo da otimização\u001b[39;00m\n\u001b[0;32m     57\u001b[0m     \u001b[39m#  . use o vetor arr_evaluated_methods e o número do best_trial (study.best_trial.number)\u001b[39;00m\n\u001b[1;32m---> 58\u001b[0m     best_method \u001b[39m=\u001b[39m \u001b[39mself\u001b[39;49m\u001b[39m.\u001b[39;49mClasseObjetivoOtimizacao\u001b[39m.\u001b[39;49marr_evaluated_methods[study\u001b[39m.\u001b[39mbest_trial\u001b[39m.\u001b[39mnumber]\n\u001b[0;32m     59\u001b[0m     \u001b[39mself\u001b[39m\u001b[39m.\u001b[39mstudies_per_fold\u001b[39m.\u001b[39mappend(study)\n\u001b[0;32m     60\u001b[0m \u001b[39melse\u001b[39;00m:\n\u001b[0;32m     61\u001b[0m     \u001b[39m#caso contrario, o metodo, atributo da classe Experimento (sem modificações) é usado\u001b[39;00m\n",
      "\u001b[1;31mAttributeError\u001b[0m: type object 'OtimizacaoObjetivoRandomForest' has no attribute 'arr_evaluated_methods'"
     ]
    }
   ],
   "source": [
    "import hiplot as hip \n",
    "from sklearn.ensemble import RandomForestClassifier\n",
    "import optuna\n",
    "\n",
    "from avaliacao import Experimento, OtimizacaoObjetivoRandomForest, Experimento\n",
    "from resultado import Resultado,Fold\n",
    "from metodo import ScikitLearnAprendizadoDeMaquina\n",
    "from tests import Dados\n",
    "\n",
    "\n",
    "#gera o fold e p experimento\n",
    "folds = Fold.gerar_k_folds(Dados.df_dados,val_k=5,col_classe=\"realClass\",\n",
    "                            num_repeticoes=1,seed=1,\n",
    "                            num_folds_validacao=3,num_repeticoes_validacao=2)\n",
    "\n",
    "clf_dtree = RandomForestClassifier(random_state=1)\n",
    "ml_method = ScikitLearnAprendizadoDeMaquina(clf_dtree)\n",
    "exp = Experimento(folds,ml_method, OtimizacaoObjetivoRandomForest, num_trials=10,\n",
    "                    sampler=optuna.samplers.TPESampler(seed=1, n_startup_trials=3))\n",
    "exp.calcula_resultados()"
   ]
  },
  {
   "cell_type": "markdown",
   "metadata": {},
   "source": [
    "Forma tabular via dataframe:"
   ]
  },
  {
   "cell_type": "code",
   "execution_count": null,
   "metadata": {},
   "outputs": [],
   "source": [
    "studdy_fold_0 = exp.studies_per_fold[0]\n",
    "studdy_fold_0.trials_dataframe().sort_values(\"value\",ascending=False)"
   ]
  },
  {
   "cell_type": "code",
   "execution_count": null,
   "metadata": {},
   "outputs": [],
   "source": [
    "#gera grafico da variacao de parametros (apenas fold 0)\n",
    "trials_fold_0 = exp.studies_per_fold[0].trials\n",
    "data = [{**trial.params, 'loss': trial.value} for trial in trials_fold_0]\n",
    "#data = [{'dropout':0.1, 'lr': 0.001, 'loss': 10.0, 'optimizer': 'SGD'}, {'dropout':0.15, 'lr': 0.01, 'loss': 3.5, 'optimizer': 'Adam'}, {'dropout':0.3, 'lr': 0.1, 'loss': 4.5, 'optimizer': 'Adam'}]\n",
    "hip.Experiment.from_iterable(data).display(force_full_width=True)"
   ]
  },
  {
   "cell_type": "markdown",
   "metadata": {},
   "source": [
    "Você analisou só um fold. Pode-se analisar diversos folds e, principalmente, ver se os melhores parametros de um fold é muito parecido ou não que o outro. Para a prática, fizemos com poucas tentativas. O ideal também é fazemos tentativas. Pelo menos centenas , porém, caso esteja muito dificil de encontrar parametros com bons resultados - ou a quantidade de parametros seja muito grande - seria interessante milhares. Sobre a quantidade de folds, geralmente usa-se muito 10 folds. \n",
    "\n",
    "A quantidade de tentativas e folds é um dos motivos que o tempo de execução e obtenção dos resultados de um método é muito demorada (podendo, as vezes, demorar dias/semanas). Por isso também, é muito importante salvar o modelo criado."
   ]
  }
 ],
 "metadata": {
  "kernelspec": {
   "display_name": "Python 3",
   "language": "python",
   "name": "python3"
  },
  "language_info": {
   "codemirror_mode": {
    "name": "ipython",
    "version": 3
   },
   "file_extension": ".py",
   "mimetype": "text/x-python",
   "name": "python",
   "nbconvert_exporter": "python",
   "pygments_lexer": "ipython3",
   "version": "3.11.4"
  }
 },
 "nbformat": 4,
 "nbformat_minor": 2
}
