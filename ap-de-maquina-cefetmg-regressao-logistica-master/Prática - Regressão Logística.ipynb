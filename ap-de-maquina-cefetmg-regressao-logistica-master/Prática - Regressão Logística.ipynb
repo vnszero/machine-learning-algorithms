{
 "cells": [
  {
   "cell_type": "markdown",
   "metadata": {},
   "source": [
    "## Notação matemática usada na prática"
   ]
  },
  {
   "cell_type": "markdown",
   "metadata": {},
   "source": [
    "Adotamos o padrão matemático para definir as variáveis a seguir. Nesse padrão, todas as variáveis que representam matrizes estão em maiúsculas, vetores em negrito e minúscula e, valores numéricos, como variáveis minusculas. Logo após, mapeamos cada variável matemática com uma respectiva variável em Python."
   ]
  },
  {
   "cell_type": "markdown",
   "metadata": {},
   "source": [
    "- $m$: quantidade de instancias\n",
    "- $f$: quantidade de atributos\n",
    "- $X$: Matriz de instâncias representadas pelo seus atributos dimensão $(m,f)$\n",
    "- $\\pmb{y}$: Vetor de tamanho $m$ representando a classe real de cada instância\n",
    "- $\\pmb{\\hat{y}}$: Vetor de predições que, para cada instancia, possui o valor predito para ela. Caso seja uma classificação binária, este valor será 0 ou 1\n",
    "- $\\pmb{w}$: vetor de pesos para ponderar os atributos (também chamado de parâmetros), tamanho $f$\n",
    "- $w_j$: $j$-ésimo valor do vetor $\\pmb{w}$ que pondera $j$-ésimo atributo da matriz $X$\n",
    "- $b$: Valor de viés da regressão logística (do inglês, bias term)\n",
    "- $\\pmb{z}$: vetor de tamanho $m$ representado o resultado da função z, para cada instancia $m$. \n",
    "- $z_i$: Representa o resultado da função z para a instancia $i$. \n",
    "- $\\pmb{a}$: Vetor de ativações de tamanho $m$ calculada por meio do vetor $z$\n",
    "- $a_i$: Valor de ativação da instancia $i$\n",
    "- $\\pmb{z^d}$: Derivada $\\frac{\\partial J}{\\partial z_i}$ para cada instância $i$ do modelo. Possui o mesmo tamanho que  $\\pmb{z}$\n",
    "- $\\pmb{w^d}$ Derivada $\\frac{\\partial J}{\\partial w_j}$ para cada peso $j$ do modelo, possui o mesmo tamanho de $\\pmb{w}$\n",
    "- $b^d$ Derivada $\\frac{\\partial J}{\\partial b}$ "
   ]
  },
  {
   "cell_type": "markdown",
   "metadata": {},
   "source": [
    "## Implementação das classes FuncaoAtivacao e RegressaoLogistica"
   ]
  },
  {
   "cell_type": "markdown",
   "metadata": {},
   "source": [
    "**Atividade 1: Função de ativação**: Iniciamente, você deverá criar a função de ativação e a derivada $\\frac{\\partial J}{\\partial w_j}$ quando se usa essa função. Para isso, você deverá criar uma instancia da classe `FuncaoAtivação` representando a função sigmoid. Para criar esse objeto, você deverá passar dois parametros: sua função de ativação, representada pelo parâmetro `funcao`, e a função que calcula o vetor gradiente $\\pmb{z^d}$, representada pelo parâmetro `dz_funcao`. Essa derivada é passada na função de ativação pois será diferente dependendo de qual função de ativação será usada.\n",
    "\n",
    "O atributo `funcao`, irá esperar um parametro  `z`, representando o vetor $\\pmb{z}$ e, o atributo `dz_funcao`, irá esperar como parametro `a`, `z` e `y` representando os vetores $\\pmb{a}$, $\\pmb{z}$ e $\\pmb{y}$. Os pâmetros `a`, `z` e `y` podem ser listas ou números reais, por isso use a biblioteca numpy para fazer as operações matemáticas ao invés das funções do pacote `math` durante toda a prática (ex. [np.exp](https://docs.scipy.org/doc/numpy/reference/generated/numpy.exp.html), [np.log](https://docs.scipy.org/doc/numpy/reference/generated/numpy.log.html)). Essa biblioteca trabalha com listas e vetores da mesma forma além de usar vetorização.\n",
    "\n",
    "\n",
    "<!--\n",
    "A palavra **função** está sendo usada em dois contextos aqui: você criará três **instancias da classe** FuncaoAtivacao, cada uma, passando como parametro uma função (e sua derivada). Por exemplo, **uma das instancias da da classe FuncaoAtivação** será a sigmoid em que se criará **um objeto de nome \"sigmoid\"** com dois parametros: (1) a **função de transformação sigmoid** e, outro, **a função do cálculo** da derivada $\\frac{\\partial J}{\\partial w_j}$ baseada na função de tranformação sigmoid. \n",
    "-->\n",
    "\n",
    "Para implementar as funções e passá-las como parâmetro, você pode criar uma função anônima por meio da [função lambda](https://docs.python.org/2/tutorial/controlflow.html#lambda-expressions).  Veja abaixo um exemplo de usar funções como parametros. "
   ]
  },
  {
   "cell_type": "code",
   "execution_count": 1,
   "metadata": {},
   "outputs": [
    {
     "name": "stdout",
     "output_type": "stream",
     "text": [
      "7\n",
      "..... Minha linda interface de dar oi ------\n",
      "Hi Alice! How are you?\n",
      ".....\n",
      "..... Minha linda interface de dar oi ------\n",
      "Oi Alice! Como vai?\n",
      ".....\n"
     ]
    }
   ],
   "source": [
    "#criação de uma funcao de soma\n",
    "soma = lambda x,y:x+y\n",
    "result = soma(3,4)\n",
    "print(result)\n",
    "\n",
    "#Exemplo mais bonitinho :)\n",
    "#Cada função retorna o oi em um determinado idioma\n",
    "#a função lambda recebe como parametro o nome da pessoa\n",
    "#e retorna uma string com a forma de dar oi nesse idioma\n",
    "oi_pt = lambda str_pessoa:f\"Oi {str_pessoa}! Como vai?\"\n",
    "oi_en = lambda str_pessoa:f\"Hi {str_pessoa}! How are you?\"\n",
    "\n",
    "def da_oi_para(funcao_de_dar_oi,str_pessoa):\n",
    "    print(\"..... Minha linda interface de dar oi ------\")\n",
    "    str_oi = funcao_de_dar_oi(str_pessoa)\n",
    "    print(str_oi)\n",
    "    print(\".....\")\n",
    "    \n",
    "#essa funcao é passada como parametro na funcao da_oi_para\n",
    "da_oi_para(oi_en,\"Alice\")\n",
    "da_oi_para(oi_pt,\"Alice\")\n",
    "\n",
    "\n",
    "     "
   ]
  },
  {
   "cell_type": "markdown",
   "metadata": {},
   "source": [
    "Faça o teste abaixo da função sigmoide e da sua derivada:"
   ]
  },
  {
   "cell_type": "code",
   "execution_count": 2,
   "metadata": {},
   "outputs": [
    {
     "name": "stdout",
     "output_type": "stream",
     "text": [
      ".\n",
      "----------------------------------------------------------------------\n",
      "Ran 1 test in 0.000s\n",
      "\n",
      "OK\n"
     ]
    }
   ],
   "source": [
    "!python3 -m regressao_logistica_test TestFuncaoAtivacao.test_sigmoid"
   ]
  },
  {
   "cell_type": "code",
   "execution_count": 3,
   "metadata": {},
   "outputs": [
    {
     "name": "stdout",
     "output_type": "stream",
     "text": [
      ".\n",
      "----------------------------------------------------------------------\n",
      "Ran 1 test in 0.000s\n",
      "\n",
      "OK\n"
     ]
    }
   ],
   "source": [
    "!python3 -m regressao_logistica_test TestFuncaoAtivacao.test_sigmoid_dz"
   ]
  },
  {
   "cell_type": "markdown",
   "metadata": {},
   "source": [
    "**Atividade 2 - implementação do método `z` da classe `RegressaoLogistica`**: Essa classe possui os seguintes atributos:\n",
    "\n",
    "- `arr_w`: vetor de pesos $\\pmb{w}$\n",
    "- `b`: Valor de viés da regressão logística\n",
    "- `func_ativacao`: função de ativação a ser usada. Esse atributo é uma função Python\n",
    "- `dz_func`: função derivada a ser usada de acordo com a função de ativação. Esse atributo também é uma função Python\n",
    "- `int_max_it`: Número de iterações (épocas) a rodar a regressão logística\n",
    "- `mat_x`: Matriz $X$ de atributos por instâncias\n",
    "- `arr_y`: Vetor de classes reais $\\pmb{y}$\n",
    "- `arr_z`: vetor de resultados $\\pmb{z}$ \n",
    "- `arr_a`: vetor de ativações $\\pmb{a}$\n",
    "- `gradiente`: Instancia da classe `Gradiente` que possui os atributos `arr_dz`, `arr_dw` e `db` representando, respectivamente, $\\pmb{z^d}$, $\\pmb{w^d}$ e $b^d$. \n",
    "\n",
    "Você deverá, por meio do vetor de pesos `arr_w`, valor `b` (ambos atributos da classe) e a matriz de atributos `mat_x` (passado como parâmetro) implementar o método `z` que retornará o vetor de resultados $\\pmb{z}$. Use o [método dot](https://docs.scipy.org/doc/numpy/reference/generated/numpy.matrix.dot.html) e o [atributo T](https://docs.scipy.org/doc/numpy-1.15.0/reference/generated/numpy.ndarray.T.html) dos arranjos numpy."
   ]
  },
  {
   "cell_type": "code",
   "execution_count": 4,
   "metadata": {},
   "outputs": [
    {
     "name": "stdout",
     "output_type": "stream",
     "text": [
      "(4,)\n",
      "(3, 4)\n",
      ".\n",
      "----------------------------------------------------------------------\n",
      "Ran 1 test in 0.001s\n",
      "\n",
      "OK\n"
     ]
    }
   ],
   "source": [
    "!python3 -m regressao_logistica_test TestRegressaoLogistica.test_z"
   ]
  },
  {
   "cell_type": "markdown",
   "metadata": {},
   "source": [
    "**Atividade 3 - Forward propagation:** Implemente o método  `forward_propagation`. Nele, você irá usar a matriz $X$, representada por `mat_x`, o vetor de pesos $\\pmb{w}$, representado pelo atributo `arr_w` para calcular os vetores $\\pmb{z}$ e $\\pmb{a}$ por meio do método `z` e da função de ativação, armazenada no atributo `func_ativacao`. Verifique nesse método se o `arr_w` está definido, caso não esteja, você deverá inicializá-lo com zero em todas as posições (use a função [np.zeros](https://docs.scipy.org/doc/numpy/reference/generated/numpy.zeros.html)). Veja o tamanho de w para isso"
   ]
  },
  {
   "cell_type": "code",
   "execution_count": 5,
   "metadata": {},
   "outputs": [
    {
     "name": "stdout",
     "output_type": "stream",
     "text": [
      ".\n",
      "----------------------------------------------------------------------\n",
      "Ran 1 test in 0.001s\n",
      "\n",
      "OK\n"
     ]
    }
   ],
   "source": [
    "!python3 -m regressao_logistica_test TestRegressaoLogistica.test_forward_propagation"
   ]
  },
  {
   "cell_type": "markdown",
   "metadata": {},
   "source": [
    "**Atividade 4 - Backward propagation**: Você deverá implementar a função que calcula os gradientes conforme especificado no método"
   ]
  },
  {
   "cell_type": "code",
   "execution_count": 6,
   "metadata": {},
   "outputs": [
    {
     "name": "stdout",
     "output_type": "stream",
     "text": [
      "DZ(0) - teste:-0.323004143761477\n",
      "DZ(1) - teste:0.6153837563911821\n",
      "DZ(2) - teste:-0.2244359857309266\n",
      ".\n",
      "----------------------------------------------------------------------\n",
      "Ran 1 test in 0.000s\n",
      "\n",
      "OK\n"
     ]
    }
   ],
   "source": [
    "!python3 -m regressao_logistica_test TestRegressaoLogistica.test_backward_propagation"
   ]
  },
  {
   "cell_type": "markdown",
   "metadata": {},
   "source": [
    "**Atividade 5 - Calcule a loss function**: Implemente no método `loss_function` a função de perda por meio da entropia cruzada, usando os atributos `arr_a` e `arr_y`"
   ]
  },
  {
   "cell_type": "code",
   "execution_count": 7,
   "metadata": {},
   "outputs": [
    {
     "name": "stdout",
     "output_type": "stream",
     "text": [
      ".\n",
      "----------------------------------------------------------------------\n",
      "Ran 1 test in 0.000s\n",
      "\n",
      "OK\n"
     ]
    }
   ],
   "source": [
    "!python3 -m regressao_logistica_test TestRegressaoLogistica.test_loss_function"
   ]
  },
  {
   "cell_type": "markdown",
   "metadata": {},
   "source": [
    "**Atividade 6 - Atualizar pesos**: Atualize os pesos `arr_w` e `b` por meio do gradiente e do parâmetro `learning_rate` "
   ]
  },
  {
   "cell_type": "code",
   "execution_count": 8,
   "metadata": {},
   "outputs": [
    {
     "name": "stdout",
     "output_type": "stream",
     "text": [
      ".\n",
      "----------------------------------------------------------------------\n",
      "Ran 1 test in 0.000s\n",
      "\n",
      "OK\n"
     ]
    }
   ],
   "source": [
    "!python3 -m regressao_logistica_test TestRegressaoLogistica.test_atualiza_pesos"
   ]
  },
  {
   "cell_type": "markdown",
   "metadata": {},
   "source": [
    "**Atividade 7 - método `fit`**: Cria o modelo de regressão logistica por meio de `int_max_it` épocas\n",
    "        imprime, a cada 10 épocas, a loss function obtida"
   ]
  },
  {
   "cell_type": "code",
   "execution_count": 9,
   "metadata": {},
   "outputs": [
    {
     "name": "stdout",
     "output_type": "stream",
     "text": [
      "Iteração: 0 Loss: 0.7799213641588739\n",
      "Iteração: 10 Loss: 0.6618551324404068\n",
      "Iteração: 20 Loss: 0.591922597135838\n",
      "Iteração: 30 Loss: 0.5474074262469677\n",
      "Iteração: 40 Loss: 0.5158256706140624\n",
      "Iteração: 50 Loss: 0.4910140171747017\n",
      "Iteração: 60 Loss: 0.4700249805408981\n",
      "Iteração: 70 Loss: 0.45143732529184816\n",
      "Iteração: 80 Loss: 0.43454059162632747\n",
      "Iteração: 90 Loss: 0.41895654371818614\n",
      ".\n",
      "----------------------------------------------------------------------\n",
      "Ran 1 test in 0.004s\n",
      "\n",
      "OK\n"
     ]
    }
   ],
   "source": [
    "!python3 -m regressao_logistica_test TestRegressaoLogistica.test_fit"
   ]
  },
  {
   "cell_type": "markdown",
   "metadata": {},
   "source": [
    "**Atividade 8 - método predict**: usando as instancias `mat_x`, representando a matriz $X$ das instâncias que queremos prever, calcula-se o forward_propagation do modelo para, logo após, retornar o vetor de predições $\\hat{y}$. Para cada instancia $i$, esse vetor retornará 0 se $\\pmb{a_i}<0.5$ ou 1, caso contrário.\n",
    "Dica: você pode fazer isso de forma bem simples usando vetorização. Isso é mais eficiente computacionalmente. Exemplo:"
   ]
  },
  {
   "cell_type": "code",
   "execution_count": 10,
   "metadata": {},
   "outputs": [
    {
     "name": "stdout",
     "output_type": "stream",
     "text": [
      "[False False  True  True False]\n",
      "[0 0 3 3 0]\n"
     ]
    }
   ],
   "source": [
    "import numpy as np\n",
    "meu_querido_vetor = np.array([3,2,8,9,2])\n",
    "#a linha abaixo retorna true ou false, dependendo do valor\n",
    "print(meu_querido_vetor>4)\n",
    "#Se multiplicamos um número por um vetor numpy de true e false \n",
    "#. é o mesmo de multiplicarmos o número por 1 ou 0, respectivamente\n",
    "print(3*(meu_querido_vetor>4))\n"
   ]
  },
  {
   "cell_type": "code",
   "execution_count": 37,
   "metadata": {},
   "outputs": [
    {
     "name": "stdout",
     "output_type": "stream",
     "text": [
      ".\n",
      "----------------------------------------------------------------------\n",
      "Ran 1 test in 0.000s\n",
      "\n",
      "OK\n"
     ]
    }
   ],
   "source": [
    "!python3 -m regressao_logistica_test TestRegressaoLogistica.test_predict"
   ]
  },
  {
   "cell_type": "markdown",
   "metadata": {},
   "source": [
    "## Meu primeiro método de Aprendizado de Máquina: Vamos ver funcionando 😍 "
   ]
  },
  {
   "cell_type": "code",
   "execution_count": null,
   "metadata": {},
   "outputs": [],
   "source": [
    "import pandas as pd\n",
    "import sklearn.datasets\n",
    "import matplotlib.pyplot as plt\n",
    "from sklearn.metrics import accuracy_score\n",
    "from regressao_logistica import *\n",
    "from util import *"
   ]
  },
  {
   "cell_type": "markdown",
   "metadata": {},
   "source": [
    "Use o dataset abaixo. Mande rodar e plote também o XX. Veja que ele irá plotar uma divisão linear dos resultados. Ainda não é a melhor solução para os dados que temos abaixo. Alguns problemas, que dizemos que são **linearmente separáveis**, usar uma função linear já é o suficiente."
   ]
  },
  {
   "cell_type": "code",
   "execution_count": null,
   "metadata": {},
   "outputs": [],
   "source": [
    "#Dados a serem usados\n",
    "mat_x, arr_y = sklearn.datasets.make_moons(400, noise=0.05)\n",
    "plt.scatter(mat_x[:,0], mat_x[:,1], s=40, c=arr_y, cmap=plt.cm.Spectral)"
   ]
  },
  {
   "cell_type": "code",
   "execution_count": null,
   "metadata": {},
   "outputs": [],
   "source": [
    "# Crie o modelo de regressão logistica para esses dados\n",
    "obj_regressao_logistica = None"
   ]
  },
  {
   "cell_type": "code",
   "execution_count": null,
   "metadata": {},
   "outputs": [],
   "source": [
    "#crie o modelo usando mat_x e arr_y\n"
   ]
  },
  {
   "cell_type": "code",
   "execution_count": null,
   "metadata": {},
   "outputs": [],
   "source": [
    "# Apresente aqui a superfície de decisão desses dados\n",
    "plot_decision_boundary(obj_regressao_logistica,mat_x,arr_y)\n",
    "\n",
    "# Plotando a acurácia para ter uma métrica númerica direta sobre o desempenho\n",
    "print(f\"Acurácia: {accuracy_score(obj_regressao_logistica.predict(mat_x), arr_y)}\")\n"
   ]
  },
  {
   "cell_type": "markdown",
   "metadata": {},
   "source": [
    "Descreva o impacto ao alterar a taxa de aprendizado e o número de épocas (`learning_rate` e `num_iteracoes`, respectivamente) algum desses parâmetros podem ocasionar overfitting/underfitting? Quando?"
   ]
  },
  {
   "cell_type": "markdown",
   "metadata": {},
   "source": []
  }
 ],
 "metadata": {
  "kernelspec": {
   "display_name": "Python 3",
   "language": "python",
   "name": "python3"
  },
  "language_info": {
   "codemirror_mode": {
    "name": "ipython",
    "version": 3
   },
   "file_extension": ".py",
   "mimetype": "text/x-python",
   "name": "python",
   "nbconvert_exporter": "python",
   "pygments_lexer": "ipython3",
   "version": "3.10.12"
  }
 },
 "nbformat": 4,
 "nbformat_minor": 2
}
